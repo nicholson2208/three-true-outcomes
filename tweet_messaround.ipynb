{
 "cells": [
  {
   "cell_type": "code",
   "execution_count": 41,
   "id": "633f388a-fbc3-4522-a769-0ea14f35981e",
   "metadata": {},
   "outputs": [],
   "source": [
    "import tweepy"
   ]
  },
  {
   "cell_type": "code",
   "execution_count": 42,
   "id": "c6715e9a-a1a5-44c7-ad4b-0e37c7541e5d",
   "metadata": {},
   "outputs": [],
   "source": [
    "client = tweepy.Client(consumer_key=\"\",\n",
    "                       consumer_secret=\"\",\n",
    "                       access_token=\"\",\n",
    "                       access_token_secret=\"\")"
   ]
  },
  {
   "cell_type": "code",
   "execution_count": null,
   "id": "18bca4bd-ab63-4ae5-908a-bf1c95fc8531",
   "metadata": {},
   "outputs": [],
   "source": [
    "resp = client.create_tweet(text=\"hello world\")"
   ]
  },
  {
   "cell_type": "code",
   "execution_count": 34,
   "id": "8427f179-c507-44f7-b213-f00c1133c2bb",
   "metadata": {},
   "outputs": [],
   "source": [
    "reply = client.create_tweet(text='hello world reply', in_reply_to_tweet_id=resp[\"id\"])"
   ]
  }
 ],
 "metadata": {
  "kernelspec": {
   "display_name": "Python 3 (ipykernel)",
   "language": "python",
   "name": "python3"
  },
  "language_info": {
   "codemirror_mode": {
    "name": "ipython",
    "version": 3
   },
   "file_extension": ".py",
   "mimetype": "text/x-python",
   "name": "python",
   "nbconvert_exporter": "python",
   "pygments_lexer": "ipython3",
   "version": "3.11.3"
  }
 },
 "nbformat": 4,
 "nbformat_minor": 5
}
