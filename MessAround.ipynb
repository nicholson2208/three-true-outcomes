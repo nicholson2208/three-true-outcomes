{
 "cells": [
  {
   "cell_type": "markdown",
   "id": "74f73481-690e-4e20-84d0-70e1baeababd",
   "metadata": {},
   "source": [
    "# Initial Mess Around\n",
    "\n",
    "Want to make a three true outcomes leader board, with maybe a would it dong? cross over"
   ]
  },
  {
   "cell_type": "code",
   "execution_count": 1,
   "id": "d42dbcaa-1a96-4e0a-9eff-9ffe41b61e88",
   "metadata": {},
   "outputs": [],
   "source": [
    "from pybaseball import statcast\n",
    "from pybaseball import playerid_reverse_lookup\n",
    "from pybaseball import statcast_batter, spraychart\n",
    "\n",
    "import pandas as pd\n",
    "import matplotlib.pyplot as plt\n"
   ]
  },
  {
   "cell_type": "code",
   "execution_count": 2,
   "id": "6a3d1023-d3d1-4924-be18-6fc49f8e3b4e",
   "metadata": {},
   "outputs": [
    {
     "name": "stdout",
     "output_type": "stream",
     "text": [
      "This is a large query, it may take a moment to complete\n"
     ]
    },
    {
     "name": "stderr",
     "output_type": "stream",
     "text": [
      "100%|████████████████████████████████████████████████████████████████████████████████████| 1/1 [00:00<00:00,  1.51it/s]"
     ]
    },
    {
     "name": "stdout",
     "output_type": "stream",
     "text": [
      "(3520, 92)\n"
     ]
    },
    {
     "name": "stderr",
     "output_type": "stream",
     "text": [
      "\n"
     ]
    }
   ],
   "source": [
    "# this defaults to yesterday\n",
    "end_dt = '2023-04-05'\n",
    "\n",
    "df = statcast(start_dt=end_dt, end_dt=end_dt)\n",
    "\n",
    "print(df.shape)"
   ]
  },
  {
   "cell_type": "code",
   "execution_count": 3,
   "id": "f6d6b941-7ea5-43f0-afa3-ef53b1bb26cc",
   "metadata": {},
   "outputs": [
    {
     "data": {
      "text/html": [
       "<div>\n",
       "<style scoped>\n",
       "    .dataframe tbody tr th:only-of-type {\n",
       "        vertical-align: middle;\n",
       "    }\n",
       "\n",
       "    .dataframe tbody tr th {\n",
       "        vertical-align: top;\n",
       "    }\n",
       "\n",
       "    .dataframe thead th {\n",
       "        text-align: right;\n",
       "    }\n",
       "</style>\n",
       "<table border=\"1\" class=\"dataframe\">\n",
       "  <thead>\n",
       "    <tr style=\"text-align: right;\">\n",
       "      <th></th>\n",
       "      <th>pitch_type</th>\n",
       "      <th>game_date</th>\n",
       "      <th>release_speed</th>\n",
       "      <th>release_pos_x</th>\n",
       "      <th>release_pos_z</th>\n",
       "      <th>player_name</th>\n",
       "      <th>batter</th>\n",
       "      <th>pitcher</th>\n",
       "      <th>events</th>\n",
       "      <th>description</th>\n",
       "      <th>...</th>\n",
       "      <th>fld_score</th>\n",
       "      <th>post_away_score</th>\n",
       "      <th>post_home_score</th>\n",
       "      <th>post_bat_score</th>\n",
       "      <th>post_fld_score</th>\n",
       "      <th>if_fielding_alignment</th>\n",
       "      <th>of_fielding_alignment</th>\n",
       "      <th>spin_axis</th>\n",
       "      <th>delta_home_win_exp</th>\n",
       "      <th>delta_run_exp</th>\n",
       "    </tr>\n",
       "  </thead>\n",
       "  <tbody>\n",
       "    <tr>\n",
       "      <th>1826</th>\n",
       "      <td>SL</td>\n",
       "      <td>2023-04-05</td>\n",
       "      <td>78.2</td>\n",
       "      <td>-3.27</td>\n",
       "      <td>4.05</td>\n",
       "      <td>Thompson, Ryan</td>\n",
       "      <td>657041</td>\n",
       "      <td>657044</td>\n",
       "      <td>field_out</td>\n",
       "      <td>hit_into_play</td>\n",
       "      <td>...</td>\n",
       "      <td>7</td>\n",
       "      <td>7</td>\n",
       "      <td>2</td>\n",
       "      <td>2</td>\n",
       "      <td>7</td>\n",
       "      <td>Standard</td>\n",
       "      <td>Standard</td>\n",
       "      <td>77</td>\n",
       "      <td>-0.004</td>\n",
       "      <td>-0.349</td>\n",
       "    </tr>\n",
       "    <tr>\n",
       "      <th>1871</th>\n",
       "      <td>SI</td>\n",
       "      <td>2023-04-05</td>\n",
       "      <td>92.3</td>\n",
       "      <td>-3.51</td>\n",
       "      <td>4.18</td>\n",
       "      <td>Thompson, Ryan</td>\n",
       "      <td>657041</td>\n",
       "      <td>657044</td>\n",
       "      <td>NaN</td>\n",
       "      <td>foul</td>\n",
       "      <td>...</td>\n",
       "      <td>7</td>\n",
       "      <td>7</td>\n",
       "      <td>2</td>\n",
       "      <td>2</td>\n",
       "      <td>7</td>\n",
       "      <td>Standard</td>\n",
       "      <td>Standard</td>\n",
       "      <td>268</td>\n",
       "      <td>0.0</td>\n",
       "      <td>-0.137</td>\n",
       "    </tr>\n",
       "    <tr>\n",
       "      <th>1918</th>\n",
       "      <td>SI</td>\n",
       "      <td>2023-04-05</td>\n",
       "      <td>92.0</td>\n",
       "      <td>-3.35</td>\n",
       "      <td>4.08</td>\n",
       "      <td>Thompson, Ryan</td>\n",
       "      <td>657041</td>\n",
       "      <td>657044</td>\n",
       "      <td>NaN</td>\n",
       "      <td>called_strike</td>\n",
       "      <td>...</td>\n",
       "      <td>7</td>\n",
       "      <td>7</td>\n",
       "      <td>2</td>\n",
       "      <td>2</td>\n",
       "      <td>7</td>\n",
       "      <td>Standard</td>\n",
       "      <td>Standard</td>\n",
       "      <td>266</td>\n",
       "      <td>0.0</td>\n",
       "      <td>-0.09</td>\n",
       "    </tr>\n",
       "    <tr>\n",
       "      <th>2001</th>\n",
       "      <td>SL</td>\n",
       "      <td>2023-04-05</td>\n",
       "      <td>79.2</td>\n",
       "      <td>-3.47</td>\n",
       "      <td>4.03</td>\n",
       "      <td>Thompson, Ryan</td>\n",
       "      <td>657041</td>\n",
       "      <td>657044</td>\n",
       "      <td>NaN</td>\n",
       "      <td>ball</td>\n",
       "      <td>...</td>\n",
       "      <td>7</td>\n",
       "      <td>7</td>\n",
       "      <td>2</td>\n",
       "      <td>2</td>\n",
       "      <td>7</td>\n",
       "      <td>Standard</td>\n",
       "      <td>Standard</td>\n",
       "      <td>73</td>\n",
       "      <td>0.0</td>\n",
       "      <td>0.08</td>\n",
       "    </tr>\n",
       "    <tr>\n",
       "      <th>2046</th>\n",
       "      <td>SI</td>\n",
       "      <td>2023-04-05</td>\n",
       "      <td>91.8</td>\n",
       "      <td>-3.43</td>\n",
       "      <td>4.05</td>\n",
       "      <td>Thompson, Ryan</td>\n",
       "      <td>682928</td>\n",
       "      <td>657044</td>\n",
       "      <td>field_out</td>\n",
       "      <td>hit_into_play</td>\n",
       "      <td>...</td>\n",
       "      <td>7</td>\n",
       "      <td>7</td>\n",
       "      <td>2</td>\n",
       "      <td>2</td>\n",
       "      <td>7</td>\n",
       "      <td>Standard</td>\n",
       "      <td>Standard</td>\n",
       "      <td>270</td>\n",
       "      <td>-0.011</td>\n",
       "      <td>-0.449</td>\n",
       "    </tr>\n",
       "  </tbody>\n",
       "</table>\n",
       "<p>5 rows × 92 columns</p>\n",
       "</div>"
      ],
      "text/plain": [
       "     pitch_type  game_date  release_speed  release_pos_x  release_pos_z  \\\n",
       "1826         SL 2023-04-05           78.2          -3.27           4.05   \n",
       "1871         SI 2023-04-05           92.3          -3.51           4.18   \n",
       "1918         SI 2023-04-05           92.0          -3.35           4.08   \n",
       "2001         SL 2023-04-05           79.2          -3.47           4.03   \n",
       "2046         SI 2023-04-05           91.8          -3.43           4.05   \n",
       "\n",
       "         player_name  batter  pitcher     events    description  ...  \\\n",
       "1826  Thompson, Ryan  657041   657044  field_out  hit_into_play  ...   \n",
       "1871  Thompson, Ryan  657041   657044        NaN           foul  ...   \n",
       "1918  Thompson, Ryan  657041   657044        NaN  called_strike  ...   \n",
       "2001  Thompson, Ryan  657041   657044        NaN           ball  ...   \n",
       "2046  Thompson, Ryan  682928   657044  field_out  hit_into_play  ...   \n",
       "\n",
       "      fld_score  post_away_score  post_home_score  post_bat_score  \\\n",
       "1826          7                7                2               2   \n",
       "1871          7                7                2               2   \n",
       "1918          7                7                2               2   \n",
       "2001          7                7                2               2   \n",
       "2046          7                7                2               2   \n",
       "\n",
       "      post_fld_score if_fielding_alignment of_fielding_alignment spin_axis  \\\n",
       "1826               7              Standard              Standard        77   \n",
       "1871               7              Standard              Standard       268   \n",
       "1918               7              Standard              Standard       266   \n",
       "2001               7              Standard              Standard        73   \n",
       "2046               7              Standard              Standard       270   \n",
       "\n",
       "     delta_home_win_exp delta_run_exp  \n",
       "1826             -0.004        -0.349  \n",
       "1871                0.0        -0.137  \n",
       "1918                0.0         -0.09  \n",
       "2001                0.0          0.08  \n",
       "2046             -0.011        -0.449  \n",
       "\n",
       "[5 rows x 92 columns]"
      ]
     },
     "execution_count": 3,
     "metadata": {},
     "output_type": "execute_result"
    }
   ],
   "source": [
    "df.head()"
   ]
  },
  {
   "cell_type": "code",
   "execution_count": 40,
   "id": "7fdb18b2-ada0-48fa-93a6-caed03ecb4a9",
   "metadata": {},
   "outputs": [
    {
     "data": {
      "text/plain": [
       "NYM    312\n",
       "CHC    300\n",
       "WSH    298\n",
       "BOS    274\n",
       "SEA    273\n",
       "TOR    271\n",
       "COL    265\n",
       "DET    263\n",
       "NYY    246\n",
       "Name: home_team, dtype: int64"
      ]
     },
     "execution_count": 40,
     "metadata": {},
     "output_type": "execute_result"
    }
   ],
   "source": [
    "df.home_team.value_counts()"
   ]
  },
  {
   "cell_type": "code",
   "execution_count": 41,
   "id": "dd162762-5130-4557-acc1-0ed194561e35",
   "metadata": {},
   "outputs": [
    {
     "data": {
      "text/plain": [
       "field_out                    289\n",
       "strikeout                    144\n",
       "single                        98\n",
       "walk                          41\n",
       "double                        24\n",
       "force_out                     18\n",
       "home_run                      15\n",
       "field_error                    8\n",
       "grounded_into_double_play      8\n",
       "hit_by_pitch                   6\n",
       "triple                         6\n",
       "sac_fly                        6\n",
       "fielders_choice                2\n",
       "sac_bunt                       1\n",
       "double_play                    1\n",
       "Name: events, dtype: int64"
      ]
     },
     "execution_count": 41,
     "metadata": {},
     "output_type": "execute_result"
    }
   ],
   "source": [
    "df.events.value_counts()"
   ]
  },
  {
   "cell_type": "code",
   "execution_count": 4,
   "id": "a89d863a-afe9-443c-a3ec-c564f97eb538",
   "metadata": {},
   "outputs": [],
   "source": [
    "tto_events = df.loc[df[\"events\"].isin([\"strikeout\", \"walk\", \"home_run\"])]"
   ]
  },
  {
   "cell_type": "code",
   "execution_count": 5,
   "id": "ee11c59f-0f37-4217-81e6-a8619dcb74f4",
   "metadata": {},
   "outputs": [
    {
     "data": {
      "text/html": [
       "<div>\n",
       "<style scoped>\n",
       "    .dataframe tbody tr th:only-of-type {\n",
       "        vertical-align: middle;\n",
       "    }\n",
       "\n",
       "    .dataframe tbody tr th {\n",
       "        vertical-align: top;\n",
       "    }\n",
       "\n",
       "    .dataframe thead th {\n",
       "        text-align: right;\n",
       "    }\n",
       "</style>\n",
       "<table border=\"1\" class=\"dataframe\">\n",
       "  <thead>\n",
       "    <tr style=\"text-align: right;\">\n",
       "      <th></th>\n",
       "      <th>pitch_type</th>\n",
       "      <th>game_date</th>\n",
       "      <th>release_speed</th>\n",
       "      <th>release_pos_x</th>\n",
       "      <th>release_pos_z</th>\n",
       "      <th>player_name</th>\n",
       "      <th>batter</th>\n",
       "      <th>pitcher</th>\n",
       "      <th>events</th>\n",
       "      <th>description</th>\n",
       "      <th>...</th>\n",
       "      <th>fld_score</th>\n",
       "      <th>post_away_score</th>\n",
       "      <th>post_home_score</th>\n",
       "      <th>post_bat_score</th>\n",
       "      <th>post_fld_score</th>\n",
       "      <th>if_fielding_alignment</th>\n",
       "      <th>of_fielding_alignment</th>\n",
       "      <th>spin_axis</th>\n",
       "      <th>delta_home_win_exp</th>\n",
       "      <th>delta_run_exp</th>\n",
       "    </tr>\n",
       "  </thead>\n",
       "  <tbody>\n",
       "    <tr>\n",
       "      <th>2194</th>\n",
       "      <td>SI</td>\n",
       "      <td>2023-04-05</td>\n",
       "      <td>90.2</td>\n",
       "      <td>-3.44</td>\n",
       "      <td>4.03</td>\n",
       "      <td>Thompson, Ryan</td>\n",
       "      <td>645302</td>\n",
       "      <td>657044</td>\n",
       "      <td>walk</td>\n",
       "      <td>ball</td>\n",
       "      <td>...</td>\n",
       "      <td>7</td>\n",
       "      <td>7</td>\n",
       "      <td>2</td>\n",
       "      <td>2</td>\n",
       "      <td>7</td>\n",
       "      <td>Standard</td>\n",
       "      <td>Standard</td>\n",
       "      <td>264</td>\n",
       "      <td>0.009</td>\n",
       "      <td>0.34</td>\n",
       "    </tr>\n",
       "    <tr>\n",
       "      <th>2629</th>\n",
       "      <td>SL</td>\n",
       "      <td>2023-04-05</td>\n",
       "      <td>77.3</td>\n",
       "      <td>-3.69</td>\n",
       "      <td>4.1</td>\n",
       "      <td>Thompson, Ryan</td>\n",
       "      <td>656448</td>\n",
       "      <td>657044</td>\n",
       "      <td>walk</td>\n",
       "      <td>ball</td>\n",
       "      <td>...</td>\n",
       "      <td>7</td>\n",
       "      <td>7</td>\n",
       "      <td>2</td>\n",
       "      <td>2</td>\n",
       "      <td>7</td>\n",
       "      <td>Standard</td>\n",
       "      <td>Standard</td>\n",
       "      <td>76</td>\n",
       "      <td>0.004</td>\n",
       "      <td>0.237</td>\n",
       "    </tr>\n",
       "    <tr>\n",
       "      <th>1271</th>\n",
       "      <td>SI</td>\n",
       "      <td>2023-04-05</td>\n",
       "      <td>93.8</td>\n",
       "      <td>-1.25</td>\n",
       "      <td>5.56</td>\n",
       "      <td>Ward, Thaddeus</td>\n",
       "      <td>642350</td>\n",
       "      <td>663658</td>\n",
       "      <td>strikeout</td>\n",
       "      <td>called_strike</td>\n",
       "      <td>...</td>\n",
       "      <td>2</td>\n",
       "      <td>7</td>\n",
       "      <td>2</td>\n",
       "      <td>7</td>\n",
       "      <td>2</td>\n",
       "      <td>Standard</td>\n",
       "      <td>Standard</td>\n",
       "      <td>227</td>\n",
       "      <td>0.0</td>\n",
       "      <td>-0.157</td>\n",
       "    </tr>\n",
       "    <tr>\n",
       "      <th>2043</th>\n",
       "      <td>ST</td>\n",
       "      <td>2023-04-05</td>\n",
       "      <td>81.4</td>\n",
       "      <td>-1.42</td>\n",
       "      <td>5.72</td>\n",
       "      <td>Ward, Thaddeus</td>\n",
       "      <td>670623</td>\n",
       "      <td>663658</td>\n",
       "      <td>strikeout</td>\n",
       "      <td>swinging_strike_blocked</td>\n",
       "      <td>...</td>\n",
       "      <td>2</td>\n",
       "      <td>6</td>\n",
       "      <td>2</td>\n",
       "      <td>6</td>\n",
       "      <td>2</td>\n",
       "      <td>Standard</td>\n",
       "      <td>Standard</td>\n",
       "      <td>56</td>\n",
       "      <td>0.008</td>\n",
       "      <td>-0.408</td>\n",
       "    </tr>\n",
       "    <tr>\n",
       "      <th>2234</th>\n",
       "      <td>SI</td>\n",
       "      <td>2023-04-05</td>\n",
       "      <td>93.5</td>\n",
       "      <td>-1.43</td>\n",
       "      <td>5.48</td>\n",
       "      <td>Ward, Thaddeus</td>\n",
       "      <td>677551</td>\n",
       "      <td>663658</td>\n",
       "      <td>walk</td>\n",
       "      <td>ball</td>\n",
       "      <td>...</td>\n",
       "      <td>2</td>\n",
       "      <td>6</td>\n",
       "      <td>2</td>\n",
       "      <td>6</td>\n",
       "      <td>2</td>\n",
       "      <td>Standard</td>\n",
       "      <td>Standard</td>\n",
       "      <td>232</td>\n",
       "      <td>-0.007</td>\n",
       "      <td>0.34</td>\n",
       "    </tr>\n",
       "  </tbody>\n",
       "</table>\n",
       "<p>5 rows × 92 columns</p>\n",
       "</div>"
      ],
      "text/plain": [
       "     pitch_type  game_date  release_speed  release_pos_x  release_pos_z  \\\n",
       "2194         SI 2023-04-05           90.2          -3.44           4.03   \n",
       "2629         SL 2023-04-05           77.3          -3.69            4.1   \n",
       "1271         SI 2023-04-05           93.8          -1.25           5.56   \n",
       "2043         ST 2023-04-05           81.4          -1.42           5.72   \n",
       "2234         SI 2023-04-05           93.5          -1.43           5.48   \n",
       "\n",
       "         player_name  batter  pitcher     events              description  \\\n",
       "2194  Thompson, Ryan  645302   657044       walk                     ball   \n",
       "2629  Thompson, Ryan  656448   657044       walk                     ball   \n",
       "1271  Ward, Thaddeus  642350   663658  strikeout            called_strike   \n",
       "2043  Ward, Thaddeus  670623   663658  strikeout  swinging_strike_blocked   \n",
       "2234  Ward, Thaddeus  677551   663658       walk                     ball   \n",
       "\n",
       "      ...  fld_score  post_away_score  post_home_score  post_bat_score  \\\n",
       "2194  ...          7                7                2               2   \n",
       "2629  ...          7                7                2               2   \n",
       "1271  ...          2                7                2               7   \n",
       "2043  ...          2                6                2               6   \n",
       "2234  ...          2                6                2               6   \n",
       "\n",
       "      post_fld_score if_fielding_alignment of_fielding_alignment spin_axis  \\\n",
       "2194               7              Standard              Standard       264   \n",
       "2629               7              Standard              Standard        76   \n",
       "1271               2              Standard              Standard       227   \n",
       "2043               2              Standard              Standard        56   \n",
       "2234               2              Standard              Standard       232   \n",
       "\n",
       "     delta_home_win_exp delta_run_exp  \n",
       "2194              0.009          0.34  \n",
       "2629              0.004         0.237  \n",
       "1271                0.0        -0.157  \n",
       "2043              0.008        -0.408  \n",
       "2234             -0.007          0.34  \n",
       "\n",
       "[5 rows x 92 columns]"
      ]
     },
     "execution_count": 5,
     "metadata": {},
     "output_type": "execute_result"
    }
   ],
   "source": [
    "tto_events.head()"
   ]
  },
  {
   "cell_type": "code",
   "execution_count": 6,
   "id": "97ca03e3-4ecc-46f5-b8ee-a0a8cfc8b792",
   "metadata": {},
   "outputs": [],
   "source": [
    "# ALSO NEED TO GET THE TOTAL OF PA FOR THE GAME!\n",
    "\n",
    "outcome_counts = tto_events.groupby(\"batter\")[\"events\"].value_counts().unstack(fill_value=0)\n",
    "\n"
   ]
  },
  {
   "cell_type": "code",
   "execution_count": 7,
   "id": "ac91238e-e700-4b2e-af60-fa28c2571537",
   "metadata": {},
   "outputs": [
    {
     "data": {
      "text/html": [
       "<div>\n",
       "<style scoped>\n",
       "    .dataframe tbody tr th:only-of-type {\n",
       "        vertical-align: middle;\n",
       "    }\n",
       "\n",
       "    .dataframe tbody tr th {\n",
       "        vertical-align: top;\n",
       "    }\n",
       "\n",
       "    .dataframe thead th {\n",
       "        text-align: right;\n",
       "    }\n",
       "</style>\n",
       "<table border=\"1\" class=\"dataframe\">\n",
       "  <thead>\n",
       "    <tr style=\"text-align: right;\">\n",
       "      <th>events</th>\n",
       "      <th>home_run</th>\n",
       "      <th>strikeout</th>\n",
       "      <th>walk</th>\n",
       "    </tr>\n",
       "    <tr>\n",
       "      <th>batter</th>\n",
       "      <th></th>\n",
       "      <th></th>\n",
       "      <th></th>\n",
       "    </tr>\n",
       "  </thead>\n",
       "  <tbody>\n",
       "    <tr>\n",
       "      <th>456781</th>\n",
       "      <td>0</td>\n",
       "      <td>1</td>\n",
       "      <td>0</td>\n",
       "    </tr>\n",
       "    <tr>\n",
       "      <th>457759</th>\n",
       "      <td>0</td>\n",
       "      <td>0</td>\n",
       "      <td>1</td>\n",
       "    </tr>\n",
       "    <tr>\n",
       "      <th>467793</th>\n",
       "      <td>1</td>\n",
       "      <td>1</td>\n",
       "      <td>1</td>\n",
       "    </tr>\n",
       "    <tr>\n",
       "      <th>474832</th>\n",
       "      <td>0</td>\n",
       "      <td>3</td>\n",
       "      <td>0</td>\n",
       "    </tr>\n",
       "    <tr>\n",
       "      <th>502671</th>\n",
       "      <td>0</td>\n",
       "      <td>0</td>\n",
       "      <td>2</td>\n",
       "    </tr>\n",
       "  </tbody>\n",
       "</table>\n",
       "</div>"
      ],
      "text/plain": [
       "events  home_run  strikeout  walk\n",
       "batter                           \n",
       "456781         0          1     0\n",
       "457759         0          0     1\n",
       "467793         1          1     1\n",
       "474832         0          3     0\n",
       "502671         0          0     2"
      ]
     },
     "execution_count": 7,
     "metadata": {},
     "output_type": "execute_result"
    }
   ],
   "source": [
    "outcome_counts.head()"
   ]
  },
  {
   "cell_type": "code",
   "execution_count": 8,
   "id": "f74f01ed-1bf9-41ed-9200-7f678c8048c4",
   "metadata": {},
   "outputs": [
    {
     "data": {
      "text/html": [
       "<div>\n",
       "<style scoped>\n",
       "    .dataframe tbody tr th:only-of-type {\n",
       "        vertical-align: middle;\n",
       "    }\n",
       "\n",
       "    .dataframe tbody tr th {\n",
       "        vertical-align: top;\n",
       "    }\n",
       "\n",
       "    .dataframe thead th {\n",
       "        text-align: right;\n",
       "    }\n",
       "</style>\n",
       "<table border=\"1\" class=\"dataframe\">\n",
       "  <thead>\n",
       "    <tr style=\"text-align: right;\">\n",
       "      <th></th>\n",
       "      <th>home_run</th>\n",
       "      <th>strikeout</th>\n",
       "      <th>walk</th>\n",
       "      <th>events</th>\n",
       "    </tr>\n",
       "    <tr>\n",
       "      <th>batter</th>\n",
       "      <th></th>\n",
       "      <th></th>\n",
       "      <th></th>\n",
       "      <th></th>\n",
       "    </tr>\n",
       "  </thead>\n",
       "  <tbody>\n",
       "    <tr>\n",
       "      <th>467793</th>\n",
       "      <td>1</td>\n",
       "      <td>1</td>\n",
       "      <td>1</td>\n",
       "      <td>5</td>\n",
       "    </tr>\n",
       "    <tr>\n",
       "      <th>676116</th>\n",
       "      <td>1</td>\n",
       "      <td>2</td>\n",
       "      <td>1</td>\n",
       "      <td>4</td>\n",
       "    </tr>\n",
       "  </tbody>\n",
       "</table>\n",
       "</div>"
      ],
      "text/plain": [
       "        home_run  strikeout  walk  events\n",
       "batter                                   \n",
       "467793         1          1     1       5\n",
       "676116         1          2     1       4"
      ]
     },
     "execution_count": 8,
     "metadata": {},
     "output_type": "execute_result"
    }
   ],
   "source": [
    "three_outcomes = outcome_counts.loc[(outcome_counts[\"home_run\"] > 0) & (outcome_counts[\"strikeout\"] > 0) & (outcome_counts[\"walk\"] > 0)]\n",
    "\n",
    "# Now try to calculate only three true outcomes\n",
    "\n",
    "total_counts = df.groupby(\"batter\")[\"events\"].count()\n",
    "\n",
    "three_outcomes = three_outcomes.merge(total_counts, on='batter', how='left')\n",
    "\n",
    "three_outcomes"
   ]
  },
  {
   "cell_type": "code",
   "execution_count": 9,
   "id": "aa909e60-8e35-482f-80f9-fb495fadb814",
   "metadata": {},
   "outputs": [],
   "source": [
    "only_three_outcomes = three_outcomes.loc[three_outcomes[[\"home_run\", \"strikeout\", \"walk\"]].sum(axis=1) == three_outcomes[\"events\"]]"
   ]
  },
  {
   "cell_type": "code",
   "execution_count": 10,
   "id": "921d0266-d0d5-4a80-8c9d-d1fa00d17707",
   "metadata": {},
   "outputs": [
    {
     "data": {
      "text/html": [
       "<div>\n",
       "<style scoped>\n",
       "    .dataframe tbody tr th:only-of-type {\n",
       "        vertical-align: middle;\n",
       "    }\n",
       "\n",
       "    .dataframe tbody tr th {\n",
       "        vertical-align: top;\n",
       "    }\n",
       "\n",
       "    .dataframe thead th {\n",
       "        text-align: right;\n",
       "    }\n",
       "</style>\n",
       "<table border=\"1\" class=\"dataframe\">\n",
       "  <thead>\n",
       "    <tr style=\"text-align: right;\">\n",
       "      <th></th>\n",
       "      <th>home_run</th>\n",
       "      <th>strikeout</th>\n",
       "      <th>walk</th>\n",
       "      <th>events</th>\n",
       "    </tr>\n",
       "    <tr>\n",
       "      <th>batter</th>\n",
       "      <th></th>\n",
       "      <th></th>\n",
       "      <th></th>\n",
       "      <th></th>\n",
       "    </tr>\n",
       "  </thead>\n",
       "  <tbody>\n",
       "    <tr>\n",
       "      <th>676116</th>\n",
       "      <td>1</td>\n",
       "      <td>2</td>\n",
       "      <td>1</td>\n",
       "      <td>4</td>\n",
       "    </tr>\n",
       "  </tbody>\n",
       "</table>\n",
       "</div>"
      ],
      "text/plain": [
       "        home_run  strikeout  walk  events\n",
       "batter                                   \n",
       "676116         1          2     1       4"
      ]
     },
     "execution_count": 10,
     "metadata": {},
     "output_type": "execute_result"
    }
   ],
   "source": [
    "only_three_outcomes"
   ]
  },
  {
   "cell_type": "code",
   "execution_count": 11,
   "id": "b1262501-1f84-40a1-91c3-d7e3529777d1",
   "metadata": {},
   "outputs": [
    {
     "name": "stdout",
     "output_type": "stream",
     "text": [
      "Gathering player lookup table. This may take a moment.\n"
     ]
    }
   ],
   "source": [
    "player_ids = only_three_outcomes.index\n",
    "\n",
    "player_names = playerid_reverse_lookup(player_ids, key_type='mlbam')"
   ]
  },
  {
   "cell_type": "code",
   "execution_count": 12,
   "id": "5e4a9e9c-66e3-4df1-ada2-9e64ca9d19a1",
   "metadata": {},
   "outputs": [],
   "source": [
    "only_three_outcomes = only_three_outcomes.merge(player_names[[\"name_first\", \"name_last\", \"key_mlbam\"]],\n",
    "                                                left_on='batter',\n",
    "                                                right_on='key_mlbam',\n",
    "                                                how=\"left\")"
   ]
  },
  {
   "cell_type": "code",
   "execution_count": 13,
   "id": "48d414b8-c94c-4437-9358-4656bf449567",
   "metadata": {},
   "outputs": [
    {
     "data": {
      "text/html": [
       "<div>\n",
       "<style scoped>\n",
       "    .dataframe tbody tr th:only-of-type {\n",
       "        vertical-align: middle;\n",
       "    }\n",
       "\n",
       "    .dataframe tbody tr th {\n",
       "        vertical-align: top;\n",
       "    }\n",
       "\n",
       "    .dataframe thead th {\n",
       "        text-align: right;\n",
       "    }\n",
       "</style>\n",
       "<table border=\"1\" class=\"dataframe\">\n",
       "  <thead>\n",
       "    <tr style=\"text-align: right;\">\n",
       "      <th></th>\n",
       "      <th>home_run</th>\n",
       "      <th>strikeout</th>\n",
       "      <th>walk</th>\n",
       "      <th>events</th>\n",
       "      <th>name_first</th>\n",
       "      <th>name_last</th>\n",
       "      <th>key_mlbam</th>\n",
       "    </tr>\n",
       "  </thead>\n",
       "  <tbody>\n",
       "    <tr>\n",
       "      <th>0</th>\n",
       "      <td>1</td>\n",
       "      <td>2</td>\n",
       "      <td>1</td>\n",
       "      <td>4</td>\n",
       "      <td>ryan</td>\n",
       "      <td>noda</td>\n",
       "      <td>676116</td>\n",
       "    </tr>\n",
       "  </tbody>\n",
       "</table>\n",
       "</div>"
      ],
      "text/plain": [
       "   home_run  strikeout  walk  events name_first name_last  key_mlbam\n",
       "0         1          2     1       4       ryan      noda     676116"
      ]
     },
     "execution_count": 13,
     "metadata": {},
     "output_type": "execute_result"
    }
   ],
   "source": [
    "only_three_outcomes"
   ]
  },
  {
   "cell_type": "code",
   "execution_count": 51,
   "id": "ea98fb60-7373-44dd-87d3-3b4f92c82786",
   "metadata": {},
   "outputs": [],
   "source": [
    "only_three_outcomes[\"run_date\"] = end_dt\n",
    "only_three_outcomes[\"has_been_posted\"] = False\n",
    "only_three_outcomes[\"posted_time\"] = None\n"
   ]
  },
  {
   "cell_type": "code",
   "execution_count": 52,
   "id": "b92b24b5-c94c-430a-b62c-3e9c833bd333",
   "metadata": {},
   "outputs": [],
   "source": [
    "#only_three_outcomes.to_csv(\"data/tto.csv\", mode=\"w\", index = False) "
   ]
  },
  {
   "cell_type": "code",
   "execution_count": 53,
   "id": "761b4237-f857-406d-b5ea-10cc49a53ade",
   "metadata": {},
   "outputs": [],
   "source": [
    "last_run = pd.read_csv(\"data/tto.csv\")"
   ]
  },
  {
   "cell_type": "code",
   "execution_count": 54,
   "id": "1fc386fb-1b87-4025-9ec9-9012bd02a4cc",
   "metadata": {},
   "outputs": [
    {
     "data": {
      "text/html": [
       "<div>\n",
       "<style scoped>\n",
       "    .dataframe tbody tr th:only-of-type {\n",
       "        vertical-align: middle;\n",
       "    }\n",
       "\n",
       "    .dataframe tbody tr th {\n",
       "        vertical-align: top;\n",
       "    }\n",
       "\n",
       "    .dataframe thead th {\n",
       "        text-align: right;\n",
       "    }\n",
       "</style>\n",
       "<table border=\"1\" class=\"dataframe\">\n",
       "  <thead>\n",
       "    <tr style=\"text-align: right;\">\n",
       "      <th></th>\n",
       "      <th>home_run</th>\n",
       "      <th>strikeout</th>\n",
       "      <th>walk</th>\n",
       "      <th>events</th>\n",
       "      <th>name_first</th>\n",
       "      <th>name_last</th>\n",
       "      <th>key_mlbam</th>\n",
       "      <th>run_date</th>\n",
       "      <th>has_been_posted</th>\n",
       "      <th>posted_time</th>\n",
       "    </tr>\n",
       "  </thead>\n",
       "  <tbody>\n",
       "    <tr>\n",
       "      <th>0</th>\n",
       "      <td>2</td>\n",
       "      <td>2</td>\n",
       "      <td>1</td>\n",
       "      <td>5</td>\n",
       "      <td>mike</td>\n",
       "      <td>trout</td>\n",
       "      <td>545361</td>\n",
       "      <td>2022-06-16</td>\n",
       "      <td>False</td>\n",
       "      <td>NaN</td>\n",
       "    </tr>\n",
       "  </tbody>\n",
       "</table>\n",
       "</div>"
      ],
      "text/plain": [
       "   home_run  strikeout  walk  events name_first name_last  key_mlbam  \\\n",
       "0         2          2     1       5       mike     trout     545361   \n",
       "\n",
       "     run_date  has_been_posted  posted_time  \n",
       "0  2022-06-16            False          NaN  "
      ]
     },
     "execution_count": 54,
     "metadata": {},
     "output_type": "execute_result"
    }
   ],
   "source": [
    "last_run"
   ]
  },
  {
   "cell_type": "code",
   "execution_count": 55,
   "id": "6fbd5b83-1ce9-43b2-abcc-f5dfe49e325b",
   "metadata": {},
   "outputs": [
    {
     "data": {
      "text/plain": [
       "'2022-06-16'"
      ]
     },
     "execution_count": 55,
     "metadata": {},
     "output_type": "execute_result"
    }
   ],
   "source": [
    "last_run.run_date.max()"
   ]
  },
  {
   "cell_type": "code",
   "execution_count": null,
   "id": "707b8dab-2f30-4ad1-b03d-d2ee155a717c",
   "metadata": {},
   "outputs": [],
   "source": []
  },
  {
   "cell_type": "code",
   "execution_count": 56,
   "id": "7ab0cbe3-982e-430c-8b35-78b40f11728c",
   "metadata": {},
   "outputs": [],
   "source": [
    "not_yet_posted = last_run[last_run[\"has_been_posted\"] == False]\n",
    "\n",
    "if not_yet_posted.shape[0] > 0:\n",
    "    not_yet_posted.iloc[0]"
   ]
  },
  {
   "cell_type": "code",
   "execution_count": 57,
   "id": "fd735153-5160-4345-a771-3707235cdf89",
   "metadata": {},
   "outputs": [],
   "source": [
    "last_run.loc[(last_run[\"key_mlbam\"] == 664913) & (last_run[\"run_date\"] == \"2022-06-12\"), \"has_been_posted\"] = True\n",
    "#tto_df[(tto_df[\"key_mlbam\"] == key_mlbam) & (tto_df[\"run_date\"] == run_date)][\"posted_time\"] = \"now\""
   ]
  },
  {
   "cell_type": "code",
   "execution_count": 58,
   "id": "3ddfd7ce-55cd-4e5f-8c57-e2a5a221e64d",
   "metadata": {},
   "outputs": [
    {
     "name": "stdout",
     "output_type": "stream",
     "text": [
      "none is false\n"
     ]
    }
   ],
   "source": [
    "if None:\n",
    "    pass\n",
    "else:\n",
    "    print(\"none is false\")"
   ]
  },
  {
   "cell_type": "code",
   "execution_count": 59,
   "id": "7f9a4b49-687e-4246-ad6f-7df64816bb17",
   "metadata": {},
   "outputs": [
    {
     "data": {
      "text/html": [
       "<div>\n",
       "<style scoped>\n",
       "    .dataframe tbody tr th:only-of-type {\n",
       "        vertical-align: middle;\n",
       "    }\n",
       "\n",
       "    .dataframe tbody tr th {\n",
       "        vertical-align: top;\n",
       "    }\n",
       "\n",
       "    .dataframe thead th {\n",
       "        text-align: right;\n",
       "    }\n",
       "</style>\n",
       "<table border=\"1\" class=\"dataframe\">\n",
       "  <thead>\n",
       "    <tr style=\"text-align: right;\">\n",
       "      <th></th>\n",
       "      <th>home_run</th>\n",
       "      <th>strikeout</th>\n",
       "      <th>walk</th>\n",
       "      <th>events</th>\n",
       "      <th>name_first</th>\n",
       "      <th>name_last</th>\n",
       "      <th>key_mlbam</th>\n",
       "      <th>run_date</th>\n",
       "      <th>has_been_posted</th>\n",
       "      <th>posted_time</th>\n",
       "    </tr>\n",
       "  </thead>\n",
       "  <tbody>\n",
       "    <tr>\n",
       "      <th>0</th>\n",
       "      <td>2</td>\n",
       "      <td>2</td>\n",
       "      <td>1</td>\n",
       "      <td>5</td>\n",
       "      <td>mike</td>\n",
       "      <td>trout</td>\n",
       "      <td>545361</td>\n",
       "      <td>2022-06-16</td>\n",
       "      <td>False</td>\n",
       "      <td>NaN</td>\n",
       "    </tr>\n",
       "  </tbody>\n",
       "</table>\n",
       "</div>"
      ],
      "text/plain": [
       "   home_run  strikeout  walk  events name_first name_last  key_mlbam  \\\n",
       "0         2          2     1       5       mike     trout     545361   \n",
       "\n",
       "     run_date  has_been_posted  posted_time  \n",
       "0  2022-06-16            False          NaN  "
      ]
     },
     "execution_count": 59,
     "metadata": {},
     "output_type": "execute_result"
    }
   ],
   "source": [
    "last_run"
   ]
  },
  {
   "cell_type": "code",
   "execution_count": 60,
   "id": "450f7304-e51b-414c-b206-88b4d90426e9",
   "metadata": {},
   "outputs": [
    {
     "data": {
      "text/html": [
       "<div>\n",
       "<style scoped>\n",
       "    .dataframe tbody tr th:only-of-type {\n",
       "        vertical-align: middle;\n",
       "    }\n",
       "\n",
       "    .dataframe tbody tr th {\n",
       "        vertical-align: top;\n",
       "    }\n",
       "\n",
       "    .dataframe thead th {\n",
       "        text-align: right;\n",
       "    }\n",
       "</style>\n",
       "<table border=\"1\" class=\"dataframe\">\n",
       "  <thead>\n",
       "    <tr style=\"text-align: right;\">\n",
       "      <th></th>\n",
       "      <th>pitch_type</th>\n",
       "      <th>game_date</th>\n",
       "      <th>release_speed</th>\n",
       "      <th>release_pos_x</th>\n",
       "      <th>release_pos_z</th>\n",
       "      <th>player_name</th>\n",
       "      <th>batter</th>\n",
       "      <th>pitcher</th>\n",
       "      <th>events</th>\n",
       "      <th>description</th>\n",
       "      <th>...</th>\n",
       "      <th>fld_score</th>\n",
       "      <th>post_away_score</th>\n",
       "      <th>post_home_score</th>\n",
       "      <th>post_bat_score</th>\n",
       "      <th>post_fld_score</th>\n",
       "      <th>if_fielding_alignment</th>\n",
       "      <th>of_fielding_alignment</th>\n",
       "      <th>spin_axis</th>\n",
       "      <th>delta_home_win_exp</th>\n",
       "      <th>delta_run_exp</th>\n",
       "    </tr>\n",
       "  </thead>\n",
       "  <tbody>\n",
       "    <tr>\n",
       "      <th>1305</th>\n",
       "      <td>FF</td>\n",
       "      <td>2022-06-16</td>\n",
       "      <td>92.3</td>\n",
       "      <td>-2.22</td>\n",
       "      <td>4.96</td>\n",
       "      <td>Festa, Matt</td>\n",
       "      <td>545361</td>\n",
       "      <td>670036</td>\n",
       "      <td>strikeout</td>\n",
       "      <td>swinging_strike</td>\n",
       "      <td>...</td>\n",
       "      <td>1</td>\n",
       "      <td>4</td>\n",
       "      <td>1</td>\n",
       "      <td>4</td>\n",
       "      <td>1</td>\n",
       "      <td>Infield shift</td>\n",
       "      <td>Standard</td>\n",
       "      <td>197</td>\n",
       "      <td>0.007</td>\n",
       "      <td>-0.339</td>\n",
       "    </tr>\n",
       "    <tr>\n",
       "      <th>1814</th>\n",
       "      <td>SI</td>\n",
       "      <td>2022-06-16</td>\n",
       "      <td>85.8</td>\n",
       "      <td>-2.84</td>\n",
       "      <td>5.09</td>\n",
       "      <td>Romo, Sergio</td>\n",
       "      <td>545361</td>\n",
       "      <td>489265</td>\n",
       "      <td>home_run</td>\n",
       "      <td>hit_into_play</td>\n",
       "      <td>...</td>\n",
       "      <td>0</td>\n",
       "      <td>4</td>\n",
       "      <td>0</td>\n",
       "      <td>4</td>\n",
       "      <td>0</td>\n",
       "      <td>Infield shift</td>\n",
       "      <td>Standard</td>\n",
       "      <td>245</td>\n",
       "      <td>-0.132</td>\n",
       "      <td>1.889</td>\n",
       "    </tr>\n",
       "    <tr>\n",
       "      <th>226</th>\n",
       "      <td>FF</td>\n",
       "      <td>2022-06-16</td>\n",
       "      <td>96.8</td>\n",
       "      <td>-1.36</td>\n",
       "      <td>5.85</td>\n",
       "      <td>Kirby, George</td>\n",
       "      <td>545361</td>\n",
       "      <td>669923</td>\n",
       "      <td>strikeout</td>\n",
       "      <td>swinging_strike</td>\n",
       "      <td>...</td>\n",
       "      <td>0</td>\n",
       "      <td>2</td>\n",
       "      <td>0</td>\n",
       "      <td>2</td>\n",
       "      <td>0</td>\n",
       "      <td>Infield shift</td>\n",
       "      <td>Standard</td>\n",
       "      <td>220</td>\n",
       "      <td>0.013</td>\n",
       "      <td>-0.134</td>\n",
       "    </tr>\n",
       "    <tr>\n",
       "      <th>784</th>\n",
       "      <td>FF</td>\n",
       "      <td>2022-06-16</td>\n",
       "      <td>95.3</td>\n",
       "      <td>-1.61</td>\n",
       "      <td>5.82</td>\n",
       "      <td>Kirby, George</td>\n",
       "      <td>545361</td>\n",
       "      <td>669923</td>\n",
       "      <td>home_run</td>\n",
       "      <td>hit_into_play</td>\n",
       "      <td>...</td>\n",
       "      <td>0</td>\n",
       "      <td>2</td>\n",
       "      <td>0</td>\n",
       "      <td>2</td>\n",
       "      <td>0</td>\n",
       "      <td>Standard</td>\n",
       "      <td>Standard</td>\n",
       "      <td>218</td>\n",
       "      <td>-0.219</td>\n",
       "      <td>1.848</td>\n",
       "    </tr>\n",
       "    <tr>\n",
       "      <th>1921</th>\n",
       "      <td>FF</td>\n",
       "      <td>2022-06-16</td>\n",
       "      <td>97.2</td>\n",
       "      <td>-1.44</td>\n",
       "      <td>5.9</td>\n",
       "      <td>Kirby, George</td>\n",
       "      <td>545361</td>\n",
       "      <td>669923</td>\n",
       "      <td>walk</td>\n",
       "      <td>ball</td>\n",
       "      <td>...</td>\n",
       "      <td>0</td>\n",
       "      <td>0</td>\n",
       "      <td>0</td>\n",
       "      <td>0</td>\n",
       "      <td>0</td>\n",
       "      <td>Infield shift</td>\n",
       "      <td>Standard</td>\n",
       "      <td>220</td>\n",
       "      <td>-0.025</td>\n",
       "      <td>0.163</td>\n",
       "    </tr>\n",
       "  </tbody>\n",
       "</table>\n",
       "<p>5 rows × 92 columns</p>\n",
       "</div>"
      ],
      "text/plain": [
       "     pitch_type  game_date  release_speed  release_pos_x  release_pos_z  \\\n",
       "1305         FF 2022-06-16           92.3          -2.22           4.96   \n",
       "1814         SI 2022-06-16           85.8          -2.84           5.09   \n",
       "226          FF 2022-06-16           96.8          -1.36           5.85   \n",
       "784          FF 2022-06-16           95.3          -1.61           5.82   \n",
       "1921         FF 2022-06-16           97.2          -1.44            5.9   \n",
       "\n",
       "        player_name  batter  pitcher     events      description  ...  \\\n",
       "1305    Festa, Matt  545361   670036  strikeout  swinging_strike  ...   \n",
       "1814   Romo, Sergio  545361   489265   home_run    hit_into_play  ...   \n",
       "226   Kirby, George  545361   669923  strikeout  swinging_strike  ...   \n",
       "784   Kirby, George  545361   669923   home_run    hit_into_play  ...   \n",
       "1921  Kirby, George  545361   669923       walk             ball  ...   \n",
       "\n",
       "      fld_score  post_away_score  post_home_score  post_bat_score  \\\n",
       "1305          1                4                1               4   \n",
       "1814          0                4                0               4   \n",
       "226           0                2                0               2   \n",
       "784           0                2                0               2   \n",
       "1921          0                0                0               0   \n",
       "\n",
       "      post_fld_score if_fielding_alignment of_fielding_alignment spin_axis  \\\n",
       "1305               1         Infield shift              Standard       197   \n",
       "1814               0         Infield shift              Standard       245   \n",
       "226                0         Infield shift              Standard       220   \n",
       "784                0              Standard              Standard       218   \n",
       "1921               0         Infield shift              Standard       220   \n",
       "\n",
       "     delta_home_win_exp delta_run_exp  \n",
       "1305              0.007        -0.339  \n",
       "1814             -0.132         1.889  \n",
       "226               0.013        -0.134  \n",
       "784              -0.219         1.848  \n",
       "1921             -0.025         0.163  \n",
       "\n",
       "[5 rows x 92 columns]"
      ]
     },
     "execution_count": 60,
     "metadata": {},
     "output_type": "execute_result"
    }
   ],
   "source": [
    "# double check this!\n",
    "\n",
    "tto_events.loc[tto_events[\"batter\"].isin(player_ids)]"
   ]
  },
  {
   "cell_type": "code",
   "execution_count": 99,
   "id": "d87a8429-6b8d-4b81-a353-85565a043e96",
   "metadata": {},
   "outputs": [
    {
     "name": "stdout",
     "output_type": "stream",
     "text": [
      "2\n",
      "20\n",
      "36\n",
      "52\n",
      "69\n"
     ]
    }
   ],
   "source": [
    "# ok \n",
    "\n",
    "sub_data = tto_events.loc[tto_events[\"batter\"] == 545361]\n",
    "first_test_event = sub_data.iloc[0]\n",
    "\n",
    "for x in sorted(sub_data.at_bat_number):\n",
    "    print(x)"
   ]
  },
  {
   "cell_type": "code",
   "execution_count": 100,
   "id": "abcafded-2506-4521-908f-7727eededc23",
   "metadata": {},
   "outputs": [
    {
     "data": {
      "text/plain": [
       "1305    <NA>\n",
       "1814     411\n",
       "226     <NA>\n",
       "784      344\n",
       "1921    <NA>\n",
       "Name: hit_distance_sc, dtype: Int64"
      ]
     },
     "execution_count": 100,
     "metadata": {},
     "output_type": "execute_result"
    }
   ],
   "source": [
    "sub_data.hit_distance_sc"
   ]
  },
  {
   "cell_type": "code",
   "execution_count": 101,
   "id": "ef65748b-bf93-4ad8-bbad-a6988ed8b53a",
   "metadata": {},
   "outputs": [
    {
     "data": {
      "text/plain": [
       "545361"
      ]
     },
     "execution_count": 101,
     "metadata": {},
     "output_type": "execute_result"
    }
   ],
   "source": [
    "first_test_event.batter"
   ]
  },
  {
   "cell_type": "code",
   "execution_count": 102,
   "id": "f7d7cd25-ce03-43ac-b82a-2a9928b2e583",
   "metadata": {},
   "outputs": [
    {
     "data": {
      "text/plain": [
       "pitch_type                                FF\n",
       "game_date                2022-06-16 00:00:00\n",
       "release_speed                           92.3\n",
       "release_pos_x                          -2.22\n",
       "release_pos_z                           4.96\n",
       "                                ...         \n",
       "if_fielding_alignment          Infield shift\n",
       "of_fielding_alignment               Standard\n",
       "spin_axis                                197\n",
       "delta_home_win_exp                     0.007\n",
       "delta_run_exp                         -0.339\n",
       "Name: 1305, Length: 92, dtype: object"
      ]
     },
     "execution_count": 102,
     "metadata": {},
     "output_type": "execute_result"
    }
   ],
   "source": [
    "# want to come up with a better description\n",
    "\n",
    "first_test_event\n",
    "\n"
   ]
  },
  {
   "cell_type": "code",
   "execution_count": 103,
   "id": "b799d119-dbdf-4fc4-8f5b-00c020bbd193",
   "metadata": {},
   "outputs": [],
   "source": [
    "pitch_abbreviation_to_name = {\"FF\" : \"4-Seam Fastball\",\n",
    "                              \"CU\" : \"Changeup\",\n",
    "                              \"FC\" : \"Cutter\",\n",
    "                              \"EP\" : \"Eephus\",\n",
    "                              \"FO\" : \"Forkball\",\n",
    "                              \"KN\" : \"Knuckleball\",\n",
    "                              \"KC\" : \"Knuckle-curve\",\n",
    "                              \"SC\" : \"Screwball\",\n",
    "                              \"SI\" : \"Sinker\",\n",
    "                              \"SL\" : \"Slider\",\n",
    "                              \"FS\" : \"Splitter\",\n",
    "                              \"FT\" : \"2-Seam Fastball\"\n",
    "                             }\n"
   ]
  },
  {
   "cell_type": "code",
   "execution_count": 105,
   "id": "d2d3be23-5f89-4f4f-9914-3ea7578c5354",
   "metadata": {},
   "outputs": [
    {
     "name": "stdout",
     "output_type": "stream",
     "text": [
      "K; 4-Seam Fastball, 92.3 mph\n",
      "\n"
     ]
    }
   ],
   "source": [
    "description = \"\"\n",
    "\n",
    "if first_test_event[\"events\"] == \"home_run\":\n",
    "    description += \"HR; \" + str(first_test_event[\"hit_distance_sc\"]) \\\n",
    "        + \" ft, \" + str(first_test_event[\"launch_speed\"]) + \" mph, \" + str(first_test_event[\"launch_angle\"]) + \"° launch\"\n",
    "    \n",
    "    description += \"\\n\"\n",
    "    \n",
    "else:\n",
    "    event = \"K\" if first_test_event[\"events\"] == \"strikeout\" else \"BB\"\n",
    "    \n",
    "    try:\n",
    "        readable_pitch_name = pitch_abbreviation_to_name[first_test_event[\"pitch_type\"]]\n",
    "    except KeyError as e:\n",
    "        readable_pitch_name = \"\"\n",
    "    \n",
    "    description += event + \"; \" + readable_pitch_name + \", \" + str(first_test_event[\"release_speed\"]) + \" mph\"\n",
    "    description += \"\\n\"\n",
    "\n",
    "print(description)\n"
   ]
  },
  {
   "cell_type": "code",
   "execution_count": 32,
   "id": "c8db4b2e-7e42-4bb2-a21b-0393c7d4f073",
   "metadata": {},
   "outputs": [
    {
     "data": {
      "text/plain": [
       "'walk'"
      ]
     },
     "execution_count": 32,
     "metadata": {},
     "output_type": "execute_result"
    }
   ],
   "source": [
    "first_test_event[\"events\"]"
   ]
  },
  {
   "cell_type": "code",
   "execution_count": 110,
   "id": "4c53dfd7-b7b4-43a9-acae-e3e676c1ee2a",
   "metadata": {},
   "outputs": [
    {
     "data": {
      "text/plain": [
       "'2022-06-16'"
      ]
     },
     "execution_count": 110,
     "metadata": {},
     "output_type": "execute_result"
    }
   ],
   "source": [
    "str(first_test_event[\"game_date\"].date())\n"
   ]
  },
  {
   "cell_type": "code",
   "execution_count": null,
   "id": "3cfb048b-ade4-4498-b898-ab95a388c7d5",
   "metadata": {},
   "outputs": [],
   "source": []
  },
  {
   "cell_type": "code",
   "execution_count": 33,
   "id": "8fa9c6af-8b3f-45c7-8119-c720bfc9ac87",
   "metadata": {},
   "outputs": [
    {
     "data": {
      "text/plain": [
       "663397"
      ]
     },
     "execution_count": 33,
     "metadata": {},
     "output_type": "execute_result"
    }
   ],
   "source": [
    "game_pk = tto_events.iloc[0].game_pk\n",
    "game_pk"
   ]
  },
  {
   "cell_type": "markdown",
   "id": "9f413e5b-89ef-486b-9e1e-1cbee0574d47",
   "metadata": {},
   "source": [
    "### I want to try to implement some way to get the link to the video clip"
   ]
  },
  {
   "cell_type": "code",
   "execution_count": 28,
   "id": "be6a5337-ca49-4ee2-9df4-94b16682bb68",
   "metadata": {},
   "outputs": [
    {
     "data": {
      "text/plain": [
       "pitch_type                                ST\n",
       "game_date                2022-06-16 00:00:00\n",
       "release_speed                           82.7\n",
       "release_pos_x                           1.84\n",
       "release_pos_z                           4.94\n",
       "                                ...         \n",
       "if_fielding_alignment               Standard\n",
       "of_fielding_alignment               Standard\n",
       "spin_axis                                304\n",
       "delta_home_win_exp                     0.086\n",
       "delta_run_exp                          0.472\n",
       "Name: 1586, Length: 92, dtype: object"
      ]
     },
     "execution_count": 28,
     "metadata": {},
     "output_type": "execute_result"
    }
   ],
   "source": [
    "first_test_event"
   ]
  },
  {
   "cell_type": "code",
   "execution_count": 35,
   "id": "80882604-be5a-4ae2-a59d-820ab472ea39",
   "metadata": {},
   "outputs": [],
   "source": [
    "import requests as re\n",
    "\n",
    "bs_endpoint = \"https://baseballsavant.mlb.com/gf?game_pk=\" \n",
    "\n",
    "\n",
    "resp = re.get(bs_endpoint + str(game_pk))"
   ]
  },
  {
   "cell_type": "code",
   "execution_count": 38,
   "id": "40ae73b7-f14e-4cf5-98a2-86ccb0e02180",
   "metadata": {},
   "outputs": [],
   "source": [
    "resp_json = resp.json()"
   ]
  },
  {
   "cell_type": "code",
   "execution_count": 61,
   "id": "2fbeda23-c92c-4621-b99a-15dcbc337829",
   "metadata": {},
   "outputs": [
    {
     "name": "stdout",
     "output_type": "stream",
     "text": [
      "                                play_id  inning  ab_number  cap_index  outs  \\\n",
      "0  bd01d8ed-b360-4a6a-8955-cbf0b95a29df       1          5         34     0   \n",
      "1  80491dd1-2ac0-474e-bff0-ff824549ae27       1          5         34     0   \n",
      "2  d3125eb0-ab51-430e-93b2-653751b221bf       1          5         34     0   \n",
      "3  e2c908cc-b9b3-4e42-a5b4-08eb4da419ec       1          5         34     0   \n",
      "4  00580572-f50e-4b2e-b982-51cbca3c91f5       1          5         34     0   \n",
      "\n",
      "   batter stand    batter_name  pitcher p_throws  ...   xba hit_angle  \\\n",
      "0  669016     L  Brandon Marsh   592836        R  ...   NaN       NaN   \n",
      "1  669016     L  Brandon Marsh   592836        R  ...   NaN       NaN   \n",
      "2  669016     L  Brandon Marsh   592836        R  ...   NaN       NaN   \n",
      "3  669016     L  Brandon Marsh   592836        R  ...   NaN       NaN   \n",
      "4  669016     L  Brandon Marsh   592836        R  ...  .890        11   \n",
      "\n",
      "  is_barrel    hc_x     hc_x_ft    hc_y     hc_y_ft runnerOn2B  runnerOn1B  \\\n",
      "0       NaN     NaN         NaN     NaN         NaN        NaN         NaN   \n",
      "1       NaN     NaN         NaN     NaN         NaN        NaN         NaN   \n",
      "2       NaN     NaN         NaN     NaN         NaN        NaN         NaN   \n",
      "3       NaN     NaN         NaN     NaN         NaN        NaN         NaN   \n",
      "4       0.0  207.35  198.011146  104.94  237.323822        NaN         NaN   \n",
      "\n",
      "   runnerOn3B  \n",
      "0         NaN  \n",
      "1         NaN  \n",
      "2         NaN  \n",
      "3         NaN  \n",
      "4         NaN  \n",
      "\n",
      "[5 rows x 93 columns]\n"
     ]
    },
    {
     "data": {
      "text/html": [
       "<div>\n",
       "<style scoped>\n",
       "    .dataframe tbody tr th:only-of-type {\n",
       "        vertical-align: middle;\n",
       "    }\n",
       "\n",
       "    .dataframe tbody tr th {\n",
       "        vertical-align: top;\n",
       "    }\n",
       "\n",
       "    .dataframe thead th {\n",
       "        text-align: right;\n",
       "    }\n",
       "</style>\n",
       "<table border=\"1\" class=\"dataframe\">\n",
       "  <thead>\n",
       "    <tr style=\"text-align: right;\">\n",
       "      <th></th>\n",
       "      <th>play_id</th>\n",
       "      <th>inning</th>\n",
       "      <th>ab_number</th>\n",
       "      <th>cap_index</th>\n",
       "      <th>outs</th>\n",
       "      <th>batter</th>\n",
       "      <th>stand</th>\n",
       "      <th>batter_name</th>\n",
       "      <th>pitcher</th>\n",
       "      <th>p_throws</th>\n",
       "      <th>...</th>\n",
       "      <th>xba</th>\n",
       "      <th>hit_angle</th>\n",
       "      <th>is_barrel</th>\n",
       "      <th>hc_x</th>\n",
       "      <th>hc_x_ft</th>\n",
       "      <th>hc_y</th>\n",
       "      <th>hc_y_ft</th>\n",
       "      <th>runnerOn2B</th>\n",
       "      <th>runnerOn1B</th>\n",
       "      <th>runnerOn3B</th>\n",
       "    </tr>\n",
       "  </thead>\n",
       "  <tbody>\n",
       "    <tr>\n",
       "      <th>146</th>\n",
       "      <td>883f8743-2dd6-4741-a6f0-229ab20fb6a8</td>\n",
       "      <td>9</td>\n",
       "      <td>76</td>\n",
       "      <td>14</td>\n",
       "      <td>3</td>\n",
       "      <td>435559</td>\n",
       "      <td>R</td>\n",
       "      <td>Kurt Suzuki</td>\n",
       "      <td>621242</td>\n",
       "      <td>R</td>\n",
       "      <td>...</td>\n",
       "      <td>NaN</td>\n",
       "      <td>NaN</td>\n",
       "      <td>NaN</td>\n",
       "      <td>NaN</td>\n",
       "      <td>NaN</td>\n",
       "      <td>NaN</td>\n",
       "      <td>NaN</td>\n",
       "      <td>NaN</td>\n",
       "      <td>NaN</td>\n",
       "      <td>NaN</td>\n",
       "    </tr>\n",
       "  </tbody>\n",
       "</table>\n",
       "<p>1 rows × 93 columns</p>\n",
       "</div>"
      ],
      "text/plain": [
       "                                  play_id  inning  ab_number  cap_index  outs  \\\n",
       "146  883f8743-2dd6-4741-a6f0-229ab20fb6a8       9         76         14     3   \n",
       "\n",
       "     batter stand  batter_name  pitcher p_throws  ...  xba hit_angle  \\\n",
       "146  435559     R  Kurt Suzuki   621242        R  ...  NaN       NaN   \n",
       "\n",
       "    is_barrel  hc_x  hc_x_ft hc_y hc_y_ft runnerOn2B  runnerOn1B  runnerOn3B  \n",
       "146       NaN   NaN      NaN  NaN     NaN        NaN         NaN         NaN  \n",
       "\n",
       "[1 rows x 93 columns]"
      ]
     },
     "execution_count": 61,
     "metadata": {},
     "output_type": "execute_result"
    }
   ],
   "source": [
    "# so at_bat_number is for the whole game, so I can concat the two part of that field to get the whole thing.\n",
    "test_df = pd.DataFrame(resp_json[\"team_away\"])\n",
    "\n",
    "test_df = pd.concat([test_df, pd.DataFrame(resp_json[\"team_home\"])])\n",
    "\n",
    "print(test_df.head())\n",
    "\n",
    "this_ab = test_df[test_df[\"ab_number\"] == first_test_event.at_bat_number]\n",
    "\n",
    "last_pitch = this_ab[this_ab[\"pitch_number\"] == this_ab[\"pitch_number\"].max()]\n",
    "last_pitch"
   ]
  },
  {
   "cell_type": "code",
   "execution_count": null,
   "id": "7715e3d1-0abf-42e8-9fd3-783f0dc53954",
   "metadata": {},
   "outputs": [],
   "source": []
  },
  {
   "cell_type": "code",
   "execution_count": 55,
   "id": "12e6b937-52df-459b-8482-7a272647d932",
   "metadata": {},
   "outputs": [],
   "source": [
    "\n",
    "base_video_url = \"https://baseballsavant.mlb.com/sporty-videos?playId=\"\n",
    "\n",
    "vid_url = base_video_url + str(last_pitch.play_id.iloc[0])"
   ]
  },
  {
   "cell_type": "code",
   "execution_count": 56,
   "id": "e3cf671f-60c7-4fc0-a5b4-098096a8f323",
   "metadata": {},
   "outputs": [
    {
     "data": {
      "text/plain": [
       "'https://baseballsavant.mlb.com/sporty-videos?playId=883f8743-2dd6-4741-a6f0-229ab20fb6a8'"
      ]
     },
     "execution_count": 56,
     "metadata": {},
     "output_type": "execute_result"
    }
   ],
   "source": [
    "vid_url"
   ]
  },
  {
   "cell_type": "code",
   "execution_count": 84,
   "id": "90b87ecb-f020-4842-ada2-ea12b84fb286",
   "metadata": {},
   "outputs": [],
   "source": [
    "import requests as re\n",
    "\n",
    "\n",
    "# turn it into a function now!\n",
    "\n",
    "\n",
    "def get_video_clip_urls(actual_row, tto_events):\n",
    "    \"\"\"\n",
    "    prepares the information needed for a post\n",
    "    \n",
    "    Args:\n",
    "        actual_row: (DataFrame)\n",
    "            something here\n",
    "    \n",
    "    Modifies:\n",
    "    \n",
    "    Returns:\n",
    "        dict with title, alt fields\n",
    "    \"\"\"\n",
    "    # this is the thing we will return\n",
    "    list_vid_urls = []\n",
    "    \n",
    "    # filter to just the batter we care about\n",
    "    sub_data = tto_events.loc[tto_events[\"batter\"] == actual_row.key_mlbam]\n",
    "    \n",
    "    print(sub_data.game_pk.iloc[0])\n",
    "    \n",
    "    bs_game_data_endpoint = \"https://baseballsavant.mlb.com/gf?game_pk=\" \n",
    "\n",
    "    resp = re.get(bs_game_data_endpoint + str(sub_data.game_pk))\n",
    "    \n",
    "    if resp.status_code != 200:\n",
    "        return []\n",
    "        \n",
    "    resp_json = resp.json()\n",
    "    \n",
    "    # this means we have data, but need to find the play ids\n",
    "    # so at_bat_number is for the whole game, so I can concat the two part of that field to get the whole thing.\n",
    "    game_data_df = pd.DataFrame(resp_json[\"team_away\"])\n",
    "    game_data_df = pd.concat([game_data_df, pd.DataFrame(resp_json[\"team_home\"])])\n",
    "\n",
    "\n",
    "\n",
    "    bs_video_endpoint = \"https://baseballsavant.mlb.com/sporty-videos?playId=\"\n",
    "    \n",
    "    for this_at_bat_number in sorted(sub_data.at_bat_number):\n",
    "        \n",
    "        # get the data for the whole AB\n",
    "        this_ab = game_data_df[game_data_df[\"ab_number\"] == this_at_bat_number]\n",
    "\n",
    "        # the last pitch is what we care about\n",
    "        last_pitch = this_ab[this_ab[\"pitch_number\"] == this_ab[\"pitch_number\"].max()]\n",
    "        \n",
    "        vid_url = bs_video_endpoint + str(last_pitch.play_id.iloc[0])\n",
    "        \n",
    "        list_vid_urls.append(vid_url)\n",
    "        \n",
    "    return list_vid_urls\n",
    "    \n",
    "    "
   ]
  },
  {
   "cell_type": "code",
   "execution_count": 82,
   "id": "ecfa23bb-0762-4dae-8216-a7c2e760178f",
   "metadata": {},
   "outputs": [
    {
     "data": {
      "text/plain": [
       "home_run                    1\n",
       "strikeout                   2\n",
       "walk                        1\n",
       "events                      4\n",
       "name_first               seth\n",
       "name_last               brown\n",
       "key_mlbam              664913\n",
       "run_date           2022-06-12\n",
       "has_been_posted          True\n",
       "posted_time               NaN\n",
       "Name: 0, dtype: object"
      ]
     },
     "execution_count": 82,
     "metadata": {},
     "output_type": "execute_result"
    }
   ],
   "source": [
    "last_run.iloc[0]"
   ]
  },
  {
   "cell_type": "code",
   "execution_count": 87,
   "id": "a4f81150-1688-481a-b8ea-0e3d65069d0b",
   "metadata": {
    "tags": []
   },
   "outputs": [],
   "source": [
    "sample_output = ['https://baseballsavant.mlb.com/sporty-videos?playId=b8c48083-e84c-43db-9195-abf4e01b0dc5',\n",
    "                 'https://baseballsavant.mlb.com/sporty-videos?playId=3b1b9b78-4018-4729-b466-928eebc5e6e7',\n",
    "                 'https://baseballsavant.mlb.com/sporty-videos?playId=0200153c-a296-499d-8b1f-c5adeb8624fe',\n",
    "                 'https://baseballsavant.mlb.com/sporty-videos?playId=17824e01-305f-4804-9f63-649ab8e34071']\n"
   ]
  },
  {
   "cell_type": "code",
   "execution_count": 89,
   "id": "719613bb-31a3-4b2d-a199-30141e087f75",
   "metadata": {},
   "outputs": [
    {
     "name": "stdout",
     "output_type": "stream",
     "text": [
      "Shout out to the three true outcome king of the day \n",
      "\n",
      "See the clips of the play here:\n",
      "https://baseballsavant.mlb.com/sporty-videos?playId=b8c48083-e84c-43db-9195-abf4e01b0dc5\n",
      "https://baseballsavant.mlb.com/sporty-videos?playId=3b1b9b78-4018-4729-b466-928eebc5e6e7\n",
      "https://baseballsavant.mlb.com/sporty-videos?playId=0200153c-a296-499d-8b1f-c5adeb8624fe\n",
      "https://baseballsavant.mlb.com/sporty-videos?playId=17824e01-305f-4804-9f63-649ab8e34071\n",
      "\n"
     ]
    }
   ],
   "source": [
    "text = \"Shout out to the three true outcome king of the day \\n\\n\"\n",
    "\n",
    "text += \"See the clips of these events here:\\n\"\n",
    "for url in sample_output:\n",
    "    \n",
    "    text += url + \"\\n\"\n",
    "\n",
    "print(text)"
   ]
  },
  {
   "cell_type": "code",
   "execution_count": null,
   "id": "edc736f9-951a-47df-aa4c-268c4842589a",
   "metadata": {},
   "outputs": [],
   "source": []
  },
  {
   "cell_type": "code",
   "execution_count": null,
   "id": "67938e1e-814a-44d8-8027-2741f9452661",
   "metadata": {},
   "outputs": [],
   "source": [
    "# this is stupid but the plotting is based on team name, not abbreviation\n",
    "\n",
    "# TODO: double check this! \n",
    "abbreviation_to_name = {\n",
    "    \"LAA\" : \"angels\",\n",
    "    \"HOU\" : \"astros\",\n",
    "    \"OAK\" : \"athletics\",\n",
    "    \"TOR\" : \"blue_jays\",\n",
    "    \"ATL\" : \"braves\",\n",
    "    \"MIL\" : \"brewers\",\n",
    "    \"STL\" : \"cardinals\",\n",
    "    \"CHC\" : \"cubs\",\n",
    "    \"AZ\" : \"diamondbacks\",\n",
    "    \"LAD\" : \"dodgers\",\n",
    "    \"SF\" : \"giants\",\n",
    "    \"CLE\" : \"indians\",\n",
    "    \"SEA\" : \"mariners\",\n",
    "    \"MIA\" : \"marlins\",\n",
    "    \"NYM\" : \"mets\",\n",
    "    \"WSH\" : \"nationals\",\n",
    "    \"BAL\" : \"orioles\",\n",
    "    \"SD\" : \"padres\",\n",
    "    \"PHI\" : \"phillies\",\n",
    "    \"PIT\" : \"pirates\",\n",
    "    \"TEX\" : \"rangers\",\n",
    "    \"TB\" : \"rays\",\n",
    "    \"BOS\" : \"red_sox\",\n",
    "    \"CIN\" : \"reds\",\n",
    "    \"COL\" : \"rockies\",\n",
    "    \"KC\" : \"royals\",\n",
    "    \"DET\" : \"tigers\",\n",
    "    \"MIN\" : \"twins\",\n",
    "    \"CWS\" : \"white_sox\",\n",
    "    \"NYY\" : \"yankees\",\n",
    "    \"else\" : \"generic\"\n",
    "}\n"
   ]
  },
  {
   "cell_type": "code",
   "execution_count": null,
   "id": "3b4c3369-7a9b-4e85-a123-448615f4cd9a",
   "metadata": {},
   "outputs": [],
   "source": [
    "# check if there are none!\n",
    "\n",
    "for row in only_three_outcomes.iterrows():\n",
    "    actual_row = row[1]\n",
    "    \n",
    "    player_name = actual_row.name_first.capitalize() + \" \" + actual_row.name_last.capitalize()\n",
    "        \n",
    "    sub_data = tto_events.loc[tto_events[\"batter\"] == actual_row.key_mlbam]\n",
    "    \n",
    "    # TODO: put all of the things in the title\n",
    "    title = player_name + \" \" + \"HR(s): \" + str(actual_row.home_run) +\\\n",
    "    \", \" + \"BB(s): \" + str(actual_row.walk) + \", and K(s): \" + str(actual_row.strikeout)\n",
    "    \n",
    "    # Abbreviation\n",
    "    abbv = sub_data.home_team.iloc[0]\n",
    "    \n",
    "    team_nickname = \"\"\n",
    "    try:\n",
    "        team_nickname = abbreviation_to_name[abbv]\n",
    "    except KeyError:\n",
    "        team_nickname = abbreviation_to_name[\"else\"]\n",
    "    \n",
    "    # Make alt text\n",
    "    alt=\"A figure that includes an outline of the {0} stadium with home runs marked. The title reads {1}\".format(abbv, title)\n",
    "    \n",
    "    # figure out how to save this as png\n",
    "    ax = spraychart(sub_data, team_nickname, title = title, height = 400, width=400)\n",
    "        \n",
    "    ax.figure.savefig(\"data/image.png\", metadata = {\"alt\" : alt})\n",
    "    plt.close(fig)    # close the figure window\n",
    "    \n"
   ]
  },
  {
   "cell_type": "code",
   "execution_count": null,
   "id": "b46608b2-b9b9-4d60-a44f-0c65dc29bf80",
   "metadata": {},
   "outputs": [],
   "source": [
    "# this is for gut checks\n",
    "\n",
    "id_to_check = 669242\n",
    "\n",
    "tto_events.loc[tto_events[\"batter\"] == id_to_check]"
   ]
  },
  {
   "cell_type": "code",
   "execution_count": null,
   "id": "830e8e0d-6066-4bcd-9f44-83792938e4bc",
   "metadata": {},
   "outputs": [],
   "source": [
    "total_counts[id_to_check]"
   ]
  },
  {
   "cell_type": "code",
   "execution_count": 20,
   "id": "4f97270a-3fa3-4874-8290-e36eb84bcae5",
   "metadata": {},
   "outputs": [
    {
     "data": {
      "text/plain": [
       "2764    663179\n",
       "2796    663179\n",
       "2898    663179\n",
       "2951    663179\n",
       "3119    663179\n",
       "3133    663179\n",
       "602     663179\n",
       "1628    663179\n",
       "1647    663179\n",
       "1679    663179\n",
       "1733    663179\n",
       "4579    663179\n",
       "1803    663152\n",
       "1854    663152\n",
       "1909    663152\n",
       "1947    663152\n",
       "1823    663152\n",
       "1856    663152\n",
       "1898    663152\n",
       "1945    663152\n",
       "1978    663152\n",
       "2031    663152\n",
       "311     663152\n",
       "331     663152\n",
       "361     663152\n",
       "376     663152\n",
       "1821    663152\n",
       "1838    663152\n",
       "1895    663152\n",
       "1935    663152\n",
       "4341    663152\n",
       "4467    663152\n",
       "4661    663152\n",
       "Name: game_pk, dtype: Int64"
      ]
     },
     "execution_count": 20,
     "metadata": {},
     "output_type": "execute_result"
    }
   ],
   "source": [
    "df[df[\"batter\"] == id_to_check].game_pk"
   ]
  },
  {
   "cell_type": "code",
   "execution_count": null,
   "id": "7f466e88-95a3-4eac-be7e-ddc55ecb44eb",
   "metadata": {},
   "outputs": [],
   "source": []
  },
  {
   "cell_type": "code",
   "execution_count": 60,
   "id": "a446a5dc-8f2c-4dbd-8127-d2163fb0c26e",
   "metadata": {},
   "outputs": [
    {
     "ename": "MastodonNetworkError",
     "evalue": "Could not complete request: HTTPSConnectionPool(host='mast.mastodonsports.socialdfg', port=443): Max retries exceeded with url: /api/v1/media (Caused by NewConnectionError('<urllib3.connection.HTTPSConnection object at 0x0000026A50072D70>: Failed to establish a new connection: [Errno 11001] getaddrinfo failed'))",
     "output_type": "error",
     "traceback": [
      "\u001b[1;31m---------------------------------------------------------------------------\u001b[0m",
      "\u001b[1;31mgaierror\u001b[0m                                  Traceback (most recent call last)",
      "File \u001b[1;32m~\\anaconda3\\envs\\three-true-outcomes\\lib\\site-packages\\urllib3\\connection.py:174\u001b[0m, in \u001b[0;36mHTTPConnection._new_conn\u001b[1;34m(self)\u001b[0m\n\u001b[0;32m    173\u001b[0m \u001b[38;5;28;01mtry\u001b[39;00m:\n\u001b[1;32m--> 174\u001b[0m     conn \u001b[38;5;241m=\u001b[39m connection\u001b[38;5;241m.\u001b[39mcreate_connection(\n\u001b[0;32m    175\u001b[0m         (\u001b[38;5;28mself\u001b[39m\u001b[38;5;241m.\u001b[39m_dns_host, \u001b[38;5;28mself\u001b[39m\u001b[38;5;241m.\u001b[39mport), \u001b[38;5;28mself\u001b[39m\u001b[38;5;241m.\u001b[39mtimeout, \u001b[38;5;241m*\u001b[39m\u001b[38;5;241m*\u001b[39mextra_kw\n\u001b[0;32m    176\u001b[0m     )\n\u001b[0;32m    178\u001b[0m \u001b[38;5;28;01mexcept\u001b[39;00m SocketTimeout:\n",
      "File \u001b[1;32m~\\anaconda3\\envs\\three-true-outcomes\\lib\\site-packages\\urllib3\\util\\connection.py:72\u001b[0m, in \u001b[0;36mcreate_connection\u001b[1;34m(address, timeout, source_address, socket_options)\u001b[0m\n\u001b[0;32m     68\u001b[0m     \u001b[38;5;28;01mreturn\u001b[39;00m six\u001b[38;5;241m.\u001b[39mraise_from(\n\u001b[0;32m     69\u001b[0m         LocationParseError(\u001b[38;5;124mu\u001b[39m\u001b[38;5;124m\"\u001b[39m\u001b[38;5;124m'\u001b[39m\u001b[38;5;132;01m%s\u001b[39;00m\u001b[38;5;124m'\u001b[39m\u001b[38;5;124m, label empty or too long\u001b[39m\u001b[38;5;124m\"\u001b[39m \u001b[38;5;241m%\u001b[39m host), \u001b[38;5;28;01mNone\u001b[39;00m\n\u001b[0;32m     70\u001b[0m     )\n\u001b[1;32m---> 72\u001b[0m \u001b[38;5;28;01mfor\u001b[39;00m res \u001b[38;5;129;01min\u001b[39;00m \u001b[43msocket\u001b[49m\u001b[38;5;241;43m.\u001b[39;49m\u001b[43mgetaddrinfo\u001b[49m\u001b[43m(\u001b[49m\u001b[43mhost\u001b[49m\u001b[43m,\u001b[49m\u001b[43m \u001b[49m\u001b[43mport\u001b[49m\u001b[43m,\u001b[49m\u001b[43m \u001b[49m\u001b[43mfamily\u001b[49m\u001b[43m,\u001b[49m\u001b[43m \u001b[49m\u001b[43msocket\u001b[49m\u001b[38;5;241;43m.\u001b[39;49m\u001b[43mSOCK_STREAM\u001b[49m\u001b[43m)\u001b[49m:\n\u001b[0;32m     73\u001b[0m     af, socktype, proto, canonname, sa \u001b[38;5;241m=\u001b[39m res\n",
      "File \u001b[1;32m~\\anaconda3\\envs\\three-true-outcomes\\lib\\socket.py:955\u001b[0m, in \u001b[0;36mgetaddrinfo\u001b[1;34m(host, port, family, type, proto, flags)\u001b[0m\n\u001b[0;32m    954\u001b[0m addrlist \u001b[38;5;241m=\u001b[39m []\n\u001b[1;32m--> 955\u001b[0m \u001b[38;5;28;01mfor\u001b[39;00m res \u001b[38;5;129;01min\u001b[39;00m \u001b[43m_socket\u001b[49m\u001b[38;5;241;43m.\u001b[39;49m\u001b[43mgetaddrinfo\u001b[49m\u001b[43m(\u001b[49m\u001b[43mhost\u001b[49m\u001b[43m,\u001b[49m\u001b[43m \u001b[49m\u001b[43mport\u001b[49m\u001b[43m,\u001b[49m\u001b[43m \u001b[49m\u001b[43mfamily\u001b[49m\u001b[43m,\u001b[49m\u001b[43m \u001b[49m\u001b[38;5;28;43mtype\u001b[39;49m\u001b[43m,\u001b[49m\u001b[43m \u001b[49m\u001b[43mproto\u001b[49m\u001b[43m,\u001b[49m\u001b[43m \u001b[49m\u001b[43mflags\u001b[49m\u001b[43m)\u001b[49m:\n\u001b[0;32m    956\u001b[0m     af, socktype, proto, canonname, sa \u001b[38;5;241m=\u001b[39m res\n",
      "\u001b[1;31mgaierror\u001b[0m: [Errno 11001] getaddrinfo failed",
      "\nDuring handling of the above exception, another exception occurred:\n",
      "\u001b[1;31mNewConnectionError\u001b[0m                        Traceback (most recent call last)",
      "File \u001b[1;32m~\\anaconda3\\envs\\three-true-outcomes\\lib\\site-packages\\urllib3\\connectionpool.py:703\u001b[0m, in \u001b[0;36mHTTPConnectionPool.urlopen\u001b[1;34m(self, method, url, body, headers, retries, redirect, assert_same_host, timeout, pool_timeout, release_conn, chunked, body_pos, **response_kw)\u001b[0m\n\u001b[0;32m    702\u001b[0m \u001b[38;5;66;03m# Make the request on the httplib connection object.\u001b[39;00m\n\u001b[1;32m--> 703\u001b[0m httplib_response \u001b[38;5;241m=\u001b[39m \u001b[38;5;28;43mself\u001b[39;49m\u001b[38;5;241;43m.\u001b[39;49m\u001b[43m_make_request\u001b[49m\u001b[43m(\u001b[49m\n\u001b[0;32m    704\u001b[0m \u001b[43m    \u001b[49m\u001b[43mconn\u001b[49m\u001b[43m,\u001b[49m\n\u001b[0;32m    705\u001b[0m \u001b[43m    \u001b[49m\u001b[43mmethod\u001b[49m\u001b[43m,\u001b[49m\n\u001b[0;32m    706\u001b[0m \u001b[43m    \u001b[49m\u001b[43murl\u001b[49m\u001b[43m,\u001b[49m\n\u001b[0;32m    707\u001b[0m \u001b[43m    \u001b[49m\u001b[43mtimeout\u001b[49m\u001b[38;5;241;43m=\u001b[39;49m\u001b[43mtimeout_obj\u001b[49m\u001b[43m,\u001b[49m\n\u001b[0;32m    708\u001b[0m \u001b[43m    \u001b[49m\u001b[43mbody\u001b[49m\u001b[38;5;241;43m=\u001b[39;49m\u001b[43mbody\u001b[49m\u001b[43m,\u001b[49m\n\u001b[0;32m    709\u001b[0m \u001b[43m    \u001b[49m\u001b[43mheaders\u001b[49m\u001b[38;5;241;43m=\u001b[39;49m\u001b[43mheaders\u001b[49m\u001b[43m,\u001b[49m\n\u001b[0;32m    710\u001b[0m \u001b[43m    \u001b[49m\u001b[43mchunked\u001b[49m\u001b[38;5;241;43m=\u001b[39;49m\u001b[43mchunked\u001b[49m\u001b[43m,\u001b[49m\n\u001b[0;32m    711\u001b[0m \u001b[43m\u001b[49m\u001b[43m)\u001b[49m\n\u001b[0;32m    713\u001b[0m \u001b[38;5;66;03m# If we're going to release the connection in ``finally:``, then\u001b[39;00m\n\u001b[0;32m    714\u001b[0m \u001b[38;5;66;03m# the response doesn't need to know about the connection. Otherwise\u001b[39;00m\n\u001b[0;32m    715\u001b[0m \u001b[38;5;66;03m# it will also try to release it and we'll have a double-release\u001b[39;00m\n\u001b[0;32m    716\u001b[0m \u001b[38;5;66;03m# mess.\u001b[39;00m\n",
      "File \u001b[1;32m~\\anaconda3\\envs\\three-true-outcomes\\lib\\site-packages\\urllib3\\connectionpool.py:386\u001b[0m, in \u001b[0;36mHTTPConnectionPool._make_request\u001b[1;34m(self, conn, method, url, timeout, chunked, **httplib_request_kw)\u001b[0m\n\u001b[0;32m    385\u001b[0m \u001b[38;5;28;01mtry\u001b[39;00m:\n\u001b[1;32m--> 386\u001b[0m     \u001b[38;5;28;43mself\u001b[39;49m\u001b[38;5;241;43m.\u001b[39;49m\u001b[43m_validate_conn\u001b[49m\u001b[43m(\u001b[49m\u001b[43mconn\u001b[49m\u001b[43m)\u001b[49m\n\u001b[0;32m    387\u001b[0m \u001b[38;5;28;01mexcept\u001b[39;00m (SocketTimeout, BaseSSLError) \u001b[38;5;28;01mas\u001b[39;00m e:\n\u001b[0;32m    388\u001b[0m     \u001b[38;5;66;03m# Py2 raises this as a BaseSSLError, Py3 raises it as socket timeout.\u001b[39;00m\n",
      "File \u001b[1;32m~\\anaconda3\\envs\\three-true-outcomes\\lib\\site-packages\\urllib3\\connectionpool.py:1042\u001b[0m, in \u001b[0;36mHTTPSConnectionPool._validate_conn\u001b[1;34m(self, conn)\u001b[0m\n\u001b[0;32m   1041\u001b[0m \u001b[38;5;28;01mif\u001b[39;00m \u001b[38;5;129;01mnot\u001b[39;00m \u001b[38;5;28mgetattr\u001b[39m(conn, \u001b[38;5;124m\"\u001b[39m\u001b[38;5;124msock\u001b[39m\u001b[38;5;124m\"\u001b[39m, \u001b[38;5;28;01mNone\u001b[39;00m):  \u001b[38;5;66;03m# AppEngine might not have  `.sock`\u001b[39;00m\n\u001b[1;32m-> 1042\u001b[0m     \u001b[43mconn\u001b[49m\u001b[38;5;241;43m.\u001b[39;49m\u001b[43mconnect\u001b[49m\u001b[43m(\u001b[49m\u001b[43m)\u001b[49m\n\u001b[0;32m   1044\u001b[0m \u001b[38;5;28;01mif\u001b[39;00m \u001b[38;5;129;01mnot\u001b[39;00m conn\u001b[38;5;241m.\u001b[39mis_verified:\n",
      "File \u001b[1;32m~\\anaconda3\\envs\\three-true-outcomes\\lib\\site-packages\\urllib3\\connection.py:358\u001b[0m, in \u001b[0;36mHTTPSConnection.connect\u001b[1;34m(self)\u001b[0m\n\u001b[0;32m    356\u001b[0m \u001b[38;5;28;01mdef\u001b[39;00m \u001b[38;5;21mconnect\u001b[39m(\u001b[38;5;28mself\u001b[39m):\n\u001b[0;32m    357\u001b[0m     \u001b[38;5;66;03m# Add certificate verification\u001b[39;00m\n\u001b[1;32m--> 358\u001b[0m     \u001b[38;5;28mself\u001b[39m\u001b[38;5;241m.\u001b[39msock \u001b[38;5;241m=\u001b[39m conn \u001b[38;5;241m=\u001b[39m \u001b[38;5;28;43mself\u001b[39;49m\u001b[38;5;241;43m.\u001b[39;49m\u001b[43m_new_conn\u001b[49m\u001b[43m(\u001b[49m\u001b[43m)\u001b[49m\n\u001b[0;32m    359\u001b[0m     hostname \u001b[38;5;241m=\u001b[39m \u001b[38;5;28mself\u001b[39m\u001b[38;5;241m.\u001b[39mhost\n",
      "File \u001b[1;32m~\\anaconda3\\envs\\three-true-outcomes\\lib\\site-packages\\urllib3\\connection.py:186\u001b[0m, in \u001b[0;36mHTTPConnection._new_conn\u001b[1;34m(self)\u001b[0m\n\u001b[0;32m    185\u001b[0m \u001b[38;5;28;01mexcept\u001b[39;00m SocketError \u001b[38;5;28;01mas\u001b[39;00m e:\n\u001b[1;32m--> 186\u001b[0m     \u001b[38;5;28;01mraise\u001b[39;00m NewConnectionError(\n\u001b[0;32m    187\u001b[0m         \u001b[38;5;28mself\u001b[39m, \u001b[38;5;124m\"\u001b[39m\u001b[38;5;124mFailed to establish a new connection: \u001b[39m\u001b[38;5;132;01m%s\u001b[39;00m\u001b[38;5;124m\"\u001b[39m \u001b[38;5;241m%\u001b[39m e\n\u001b[0;32m    188\u001b[0m     )\n\u001b[0;32m    190\u001b[0m \u001b[38;5;28;01mreturn\u001b[39;00m conn\n",
      "\u001b[1;31mNewConnectionError\u001b[0m: <urllib3.connection.HTTPSConnection object at 0x0000026A50072D70>: Failed to establish a new connection: [Errno 11001] getaddrinfo failed",
      "\nDuring handling of the above exception, another exception occurred:\n",
      "\u001b[1;31mMaxRetryError\u001b[0m                             Traceback (most recent call last)",
      "File \u001b[1;32m~\\anaconda3\\envs\\three-true-outcomes\\lib\\site-packages\\requests\\adapters.py:489\u001b[0m, in \u001b[0;36mHTTPAdapter.send\u001b[1;34m(self, request, stream, timeout, verify, cert, proxies)\u001b[0m\n\u001b[0;32m    488\u001b[0m \u001b[38;5;28;01mif\u001b[39;00m \u001b[38;5;129;01mnot\u001b[39;00m chunked:\n\u001b[1;32m--> 489\u001b[0m     resp \u001b[38;5;241m=\u001b[39m \u001b[43mconn\u001b[49m\u001b[38;5;241;43m.\u001b[39;49m\u001b[43murlopen\u001b[49m\u001b[43m(\u001b[49m\n\u001b[0;32m    490\u001b[0m \u001b[43m        \u001b[49m\u001b[43mmethod\u001b[49m\u001b[38;5;241;43m=\u001b[39;49m\u001b[43mrequest\u001b[49m\u001b[38;5;241;43m.\u001b[39;49m\u001b[43mmethod\u001b[49m\u001b[43m,\u001b[49m\n\u001b[0;32m    491\u001b[0m \u001b[43m        \u001b[49m\u001b[43murl\u001b[49m\u001b[38;5;241;43m=\u001b[39;49m\u001b[43murl\u001b[49m\u001b[43m,\u001b[49m\n\u001b[0;32m    492\u001b[0m \u001b[43m        \u001b[49m\u001b[43mbody\u001b[49m\u001b[38;5;241;43m=\u001b[39;49m\u001b[43mrequest\u001b[49m\u001b[38;5;241;43m.\u001b[39;49m\u001b[43mbody\u001b[49m\u001b[43m,\u001b[49m\n\u001b[0;32m    493\u001b[0m \u001b[43m        \u001b[49m\u001b[43mheaders\u001b[49m\u001b[38;5;241;43m=\u001b[39;49m\u001b[43mrequest\u001b[49m\u001b[38;5;241;43m.\u001b[39;49m\u001b[43mheaders\u001b[49m\u001b[43m,\u001b[49m\n\u001b[0;32m    494\u001b[0m \u001b[43m        \u001b[49m\u001b[43mredirect\u001b[49m\u001b[38;5;241;43m=\u001b[39;49m\u001b[38;5;28;43;01mFalse\u001b[39;49;00m\u001b[43m,\u001b[49m\n\u001b[0;32m    495\u001b[0m \u001b[43m        \u001b[49m\u001b[43massert_same_host\u001b[49m\u001b[38;5;241;43m=\u001b[39;49m\u001b[38;5;28;43;01mFalse\u001b[39;49;00m\u001b[43m,\u001b[49m\n\u001b[0;32m    496\u001b[0m \u001b[43m        \u001b[49m\u001b[43mpreload_content\u001b[49m\u001b[38;5;241;43m=\u001b[39;49m\u001b[38;5;28;43;01mFalse\u001b[39;49;00m\u001b[43m,\u001b[49m\n\u001b[0;32m    497\u001b[0m \u001b[43m        \u001b[49m\u001b[43mdecode_content\u001b[49m\u001b[38;5;241;43m=\u001b[39;49m\u001b[38;5;28;43;01mFalse\u001b[39;49;00m\u001b[43m,\u001b[49m\n\u001b[0;32m    498\u001b[0m \u001b[43m        \u001b[49m\u001b[43mretries\u001b[49m\u001b[38;5;241;43m=\u001b[39;49m\u001b[38;5;28;43mself\u001b[39;49m\u001b[38;5;241;43m.\u001b[39;49m\u001b[43mmax_retries\u001b[49m\u001b[43m,\u001b[49m\n\u001b[0;32m    499\u001b[0m \u001b[43m        \u001b[49m\u001b[43mtimeout\u001b[49m\u001b[38;5;241;43m=\u001b[39;49m\u001b[43mtimeout\u001b[49m\u001b[43m,\u001b[49m\n\u001b[0;32m    500\u001b[0m \u001b[43m    \u001b[49m\u001b[43m)\u001b[49m\n\u001b[0;32m    502\u001b[0m \u001b[38;5;66;03m# Send the request.\u001b[39;00m\n\u001b[0;32m    503\u001b[0m \u001b[38;5;28;01melse\u001b[39;00m:\n",
      "File \u001b[1;32m~\\anaconda3\\envs\\three-true-outcomes\\lib\\site-packages\\urllib3\\connectionpool.py:787\u001b[0m, in \u001b[0;36mHTTPConnectionPool.urlopen\u001b[1;34m(self, method, url, body, headers, retries, redirect, assert_same_host, timeout, pool_timeout, release_conn, chunked, body_pos, **response_kw)\u001b[0m\n\u001b[0;32m    785\u001b[0m     e \u001b[38;5;241m=\u001b[39m ProtocolError(\u001b[38;5;124m\"\u001b[39m\u001b[38;5;124mConnection aborted.\u001b[39m\u001b[38;5;124m\"\u001b[39m, e)\n\u001b[1;32m--> 787\u001b[0m retries \u001b[38;5;241m=\u001b[39m \u001b[43mretries\u001b[49m\u001b[38;5;241;43m.\u001b[39;49m\u001b[43mincrement\u001b[49m\u001b[43m(\u001b[49m\n\u001b[0;32m    788\u001b[0m \u001b[43m    \u001b[49m\u001b[43mmethod\u001b[49m\u001b[43m,\u001b[49m\u001b[43m \u001b[49m\u001b[43murl\u001b[49m\u001b[43m,\u001b[49m\u001b[43m \u001b[49m\u001b[43merror\u001b[49m\u001b[38;5;241;43m=\u001b[39;49m\u001b[43me\u001b[49m\u001b[43m,\u001b[49m\u001b[43m \u001b[49m\u001b[43m_pool\u001b[49m\u001b[38;5;241;43m=\u001b[39;49m\u001b[38;5;28;43mself\u001b[39;49m\u001b[43m,\u001b[49m\u001b[43m \u001b[49m\u001b[43m_stacktrace\u001b[49m\u001b[38;5;241;43m=\u001b[39;49m\u001b[43msys\u001b[49m\u001b[38;5;241;43m.\u001b[39;49m\u001b[43mexc_info\u001b[49m\u001b[43m(\u001b[49m\u001b[43m)\u001b[49m\u001b[43m[\u001b[49m\u001b[38;5;241;43m2\u001b[39;49m\u001b[43m]\u001b[49m\n\u001b[0;32m    789\u001b[0m \u001b[43m\u001b[49m\u001b[43m)\u001b[49m\n\u001b[0;32m    790\u001b[0m retries\u001b[38;5;241m.\u001b[39msleep()\n",
      "File \u001b[1;32m~\\anaconda3\\envs\\three-true-outcomes\\lib\\site-packages\\urllib3\\util\\retry.py:592\u001b[0m, in \u001b[0;36mRetry.increment\u001b[1;34m(self, method, url, response, error, _pool, _stacktrace)\u001b[0m\n\u001b[0;32m    591\u001b[0m \u001b[38;5;28;01mif\u001b[39;00m new_retry\u001b[38;5;241m.\u001b[39mis_exhausted():\n\u001b[1;32m--> 592\u001b[0m     \u001b[38;5;28;01mraise\u001b[39;00m MaxRetryError(_pool, url, error \u001b[38;5;129;01mor\u001b[39;00m ResponseError(cause))\n\u001b[0;32m    594\u001b[0m log\u001b[38;5;241m.\u001b[39mdebug(\u001b[38;5;124m\"\u001b[39m\u001b[38;5;124mIncremented Retry for (url=\u001b[39m\u001b[38;5;124m'\u001b[39m\u001b[38;5;132;01m%s\u001b[39;00m\u001b[38;5;124m'\u001b[39m\u001b[38;5;124m): \u001b[39m\u001b[38;5;132;01m%r\u001b[39;00m\u001b[38;5;124m\"\u001b[39m, url, new_retry)\n",
      "\u001b[1;31mMaxRetryError\u001b[0m: HTTPSConnectionPool(host='mast.mastodonsports.socialdfg', port=443): Max retries exceeded with url: /api/v1/media (Caused by NewConnectionError('<urllib3.connection.HTTPSConnection object at 0x0000026A50072D70>: Failed to establish a new connection: [Errno 11001] getaddrinfo failed'))",
      "\nDuring handling of the above exception, another exception occurred:\n",
      "\u001b[1;31mConnectionError\u001b[0m                           Traceback (most recent call last)",
      "File \u001b[1;32m~\\anaconda3\\envs\\three-true-outcomes\\lib\\site-packages\\mastodon\\internals.py:206\u001b[0m, in \u001b[0;36mMastodon.__api_request\u001b[1;34m(self, method, endpoint, params, files, headers, access_token_override, base_url_override, do_ratelimiting, use_json, parse, return_response_object, skip_error_check, lang_override)\u001b[0m\n\u001b[0;32m    204\u001b[0m         kwargs[\u001b[38;5;124m'\u001b[39m\u001b[38;5;124mdata\u001b[39m\u001b[38;5;124m'\u001b[39m] \u001b[38;5;241m=\u001b[39m params\n\u001b[1;32m--> 206\u001b[0m     response_object \u001b[38;5;241m=\u001b[39m \u001b[38;5;28mself\u001b[39m\u001b[38;5;241m.\u001b[39msession\u001b[38;5;241m.\u001b[39mrequest(method, base_url \u001b[38;5;241m+\u001b[39m endpoint, \u001b[38;5;241m*\u001b[39m\u001b[38;5;241m*\u001b[39mkwargs)\n\u001b[0;32m    207\u001b[0m \u001b[38;5;28;01mexcept\u001b[39;00m \u001b[38;5;167;01mException\u001b[39;00m \u001b[38;5;28;01mas\u001b[39;00m e:\n",
      "File \u001b[1;32m~\\anaconda3\\envs\\three-true-outcomes\\lib\\site-packages\\requests\\sessions.py:587\u001b[0m, in \u001b[0;36mSession.request\u001b[1;34m(self, method, url, params, data, headers, cookies, files, auth, timeout, allow_redirects, proxies, hooks, stream, verify, cert, json)\u001b[0m\n\u001b[0;32m    586\u001b[0m send_kwargs\u001b[38;5;241m.\u001b[39mupdate(settings)\n\u001b[1;32m--> 587\u001b[0m resp \u001b[38;5;241m=\u001b[39m \u001b[38;5;28mself\u001b[39m\u001b[38;5;241m.\u001b[39msend(prep, \u001b[38;5;241m*\u001b[39m\u001b[38;5;241m*\u001b[39msend_kwargs)\n\u001b[0;32m    589\u001b[0m \u001b[38;5;28;01mreturn\u001b[39;00m resp\n",
      "File \u001b[1;32m~\\anaconda3\\envs\\three-true-outcomes\\lib\\site-packages\\requests\\sessions.py:701\u001b[0m, in \u001b[0;36mSession.send\u001b[1;34m(self, request, **kwargs)\u001b[0m\n\u001b[0;32m    700\u001b[0m \u001b[38;5;66;03m# Send the request\u001b[39;00m\n\u001b[1;32m--> 701\u001b[0m r \u001b[38;5;241m=\u001b[39m adapter\u001b[38;5;241m.\u001b[39msend(request, \u001b[38;5;241m*\u001b[39m\u001b[38;5;241m*\u001b[39mkwargs)\n\u001b[0;32m    703\u001b[0m \u001b[38;5;66;03m# Total elapsed time of the request (approximately)\u001b[39;00m\n",
      "File \u001b[1;32m~\\anaconda3\\envs\\three-true-outcomes\\lib\\site-packages\\requests\\adapters.py:565\u001b[0m, in \u001b[0;36mHTTPAdapter.send\u001b[1;34m(self, request, stream, timeout, verify, cert, proxies)\u001b[0m\n\u001b[0;32m    563\u001b[0m         \u001b[38;5;28;01mraise\u001b[39;00m SSLError(e, request\u001b[38;5;241m=\u001b[39mrequest)\n\u001b[1;32m--> 565\u001b[0m     \u001b[38;5;28;01mraise\u001b[39;00m \u001b[38;5;167;01mConnectionError\u001b[39;00m(e, request\u001b[38;5;241m=\u001b[39mrequest)\n\u001b[0;32m    567\u001b[0m \u001b[38;5;28;01mexcept\u001b[39;00m ClosedPoolError \u001b[38;5;28;01mas\u001b[39;00m e:\n",
      "\u001b[1;31mConnectionError\u001b[0m: HTTPSConnectionPool(host='mast.mastodonsports.socialdfg', port=443): Max retries exceeded with url: /api/v1/media (Caused by NewConnectionError('<urllib3.connection.HTTPSConnection object at 0x0000026A50072D70>: Failed to establish a new connection: [Errno 11001] getaddrinfo failed'))",
      "\nDuring handling of the above exception, another exception occurred:\n",
      "\u001b[1;31mMastodonNetworkError\u001b[0m                      Traceback (most recent call last)",
      "Cell \u001b[1;32mIn[84], line 11\u001b[0m\n\u001b[0;32m      3\u001b[0m \u001b[38;5;66;03m#   Set up Mastodon\u001b[39;00m\n\u001b[0;32m      4\u001b[0m \n\u001b[0;32m      5\u001b[0m \u001b[38;5;66;03m# I think I also need to use os for an access token directly\u001b[39;00m\n\u001b[0;32m      6\u001b[0m mastodon \u001b[38;5;241m=\u001b[39m Mastodon(\n\u001b[0;32m      7\u001b[0m     access_token \u001b[38;5;241m=\u001b[39m \u001b[38;5;124m'\u001b[39m\u001b[38;5;124mtoken.secret\u001b[39m\u001b[38;5;124m'\u001b[39m,\n\u001b[0;32m      8\u001b[0m     api_base_url \u001b[38;5;241m=\u001b[39m \u001b[38;5;124m'\u001b[39m\u001b[38;5;124mhttps://mast.mastodonsports.socialdfg/\u001b[39m\u001b[38;5;124m'\u001b[39m\n\u001b[0;32m      9\u001b[0m )\n\u001b[1;32m---> 11\u001b[0m media \u001b[38;5;241m=\u001b[39m \u001b[43mmastodon\u001b[49m\u001b[38;5;241;43m.\u001b[39;49m\u001b[43mmedia_post\u001b[49m\u001b[43m(\u001b[49m\u001b[38;5;124;43m\"\u001b[39;49m\u001b[38;5;124;43mdata/image.png\u001b[39;49m\u001b[38;5;124;43m\"\u001b[39;49m\u001b[43m,\u001b[49m\u001b[43m \u001b[49m\u001b[43mdescription\u001b[49m\u001b[38;5;241;43m=\u001b[39;49m\u001b[43malt\u001b[49m\u001b[43m)\u001b[49m\n\u001b[0;32m     12\u001b[0m mastodon\u001b[38;5;241m.\u001b[39mstatus_post(\u001b[38;5;124m\"\u001b[39m\u001b[38;5;124mShout out to the three true outcome king of the day\u001b[39m\u001b[38;5;124m\"\u001b[39m, media_ids\u001b[38;5;241m=\u001b[39mmedia)\n",
      "File \u001b[1;32m~\\anaconda3\\envs\\three-true-outcomes\\lib\\site-packages\\decorator.py:232\u001b[0m, in \u001b[0;36mdecorate.<locals>.fun\u001b[1;34m(*args, **kw)\u001b[0m\n\u001b[0;32m    230\u001b[0m \u001b[38;5;28;01mif\u001b[39;00m \u001b[38;5;129;01mnot\u001b[39;00m kwsyntax:\n\u001b[0;32m    231\u001b[0m     args, kw \u001b[38;5;241m=\u001b[39m fix(args, kw, sig)\n\u001b[1;32m--> 232\u001b[0m \u001b[38;5;28;01mreturn\u001b[39;00m caller(func, \u001b[38;5;241m*\u001b[39m(extras \u001b[38;5;241m+\u001b[39m args), \u001b[38;5;241m*\u001b[39m\u001b[38;5;241m*\u001b[39mkw)\n",
      "File \u001b[1;32m~\\anaconda3\\envs\\three-true-outcomes\\lib\\site-packages\\mastodon\\utility.py:47\u001b[0m, in \u001b[0;36mapi_version.<locals>.api_min_version_decorator.<locals>.wrapper\u001b[1;34m(function, self, *args, **kwargs)\u001b[0m\n\u001b[0;32m     45\u001b[0m     \u001b[38;5;28;01melif\u001b[39;00m major \u001b[38;5;241m==\u001b[39m \u001b[38;5;28mself\u001b[39m\u001b[38;5;241m.\u001b[39mmastodon_major \u001b[38;5;129;01mand\u001b[39;00m minor \u001b[38;5;241m==\u001b[39m \u001b[38;5;28mself\u001b[39m\u001b[38;5;241m.\u001b[39mmastodon_minor \u001b[38;5;129;01mand\u001b[39;00m patch \u001b[38;5;241m>\u001b[39m \u001b[38;5;28mself\u001b[39m\u001b[38;5;241m.\u001b[39mmastodon_patch:\n\u001b[0;32m     46\u001b[0m         \u001b[38;5;28;01mraise\u001b[39;00m MastodonVersionError(\u001b[38;5;124m\"\u001b[39m\u001b[38;5;124mVersion check failed (Need version \u001b[39m\u001b[38;5;124m\"\u001b[39m \u001b[38;5;241m+\u001b[39m version \u001b[38;5;241m+\u001b[39m \u001b[38;5;124m\"\u001b[39m\u001b[38;5;124m, patch is \u001b[39m\u001b[38;5;124m\"\u001b[39m \u001b[38;5;241m+\u001b[39m \u001b[38;5;28mstr\u001b[39m(\u001b[38;5;28mself\u001b[39m\u001b[38;5;241m.\u001b[39mmastodon_patch) \u001b[38;5;241m+\u001b[39m \u001b[38;5;124m\"\u001b[39m\u001b[38;5;124m)\u001b[39m\u001b[38;5;124m\"\u001b[39m)\n\u001b[1;32m---> 47\u001b[0m \u001b[38;5;28;01mreturn\u001b[39;00m function(\u001b[38;5;28mself\u001b[39m, \u001b[38;5;241m*\u001b[39margs, \u001b[38;5;241m*\u001b[39m\u001b[38;5;241m*\u001b[39mkwargs)\n",
      "File \u001b[1;32m~\\anaconda3\\envs\\three-true-outcomes\\lib\\site-packages\\mastodon\\media.py:73\u001b[0m, in \u001b[0;36mMastodon.media_post\u001b[1;34m(self, media_file, mime_type, description, focus, file_name, thumbnail, thumbnail_mime_type, synchronous)\u001b[0m\n\u001b[0;32m     70\u001b[0m     ret_dict \u001b[38;5;241m=\u001b[39m \u001b[38;5;28mself\u001b[39m\u001b[38;5;241m.\u001b[39m__api_request(\n\u001b[0;32m     71\u001b[0m         \u001b[38;5;124m'\u001b[39m\u001b[38;5;124mPOST\u001b[39m\u001b[38;5;124m'\u001b[39m, \u001b[38;5;124m'\u001b[39m\u001b[38;5;124m/api/v2/media\u001b[39m\u001b[38;5;124m'\u001b[39m, files\u001b[38;5;241m=\u001b[39mfiles, params\u001b[38;5;241m=\u001b[39m{\u001b[38;5;124m'\u001b[39m\u001b[38;5;124mdescription\u001b[39m\u001b[38;5;124m'\u001b[39m: description, \u001b[38;5;124m'\u001b[39m\u001b[38;5;124mfocus\u001b[39m\u001b[38;5;124m'\u001b[39m: focus})\n\u001b[0;32m     72\u001b[0m \u001b[38;5;28;01melse\u001b[39;00m:\n\u001b[1;32m---> 73\u001b[0m     ret_dict \u001b[38;5;241m=\u001b[39m \u001b[38;5;28;43mself\u001b[39;49m\u001b[38;5;241;43m.\u001b[39;49m\u001b[43m__api_request\u001b[49m\u001b[43m(\u001b[49m\n\u001b[0;32m     74\u001b[0m \u001b[43m        \u001b[49m\u001b[38;5;124;43m'\u001b[39;49m\u001b[38;5;124;43mPOST\u001b[39;49m\u001b[38;5;124;43m'\u001b[39;49m\u001b[43m,\u001b[49m\u001b[43m \u001b[49m\u001b[38;5;124;43m'\u001b[39;49m\u001b[38;5;124;43m/api/v1/media\u001b[39;49m\u001b[38;5;124;43m'\u001b[39;49m\u001b[43m,\u001b[49m\u001b[43m \u001b[49m\u001b[43mfiles\u001b[49m\u001b[38;5;241;43m=\u001b[39;49m\u001b[43mfiles\u001b[49m\u001b[43m,\u001b[49m\u001b[43m \u001b[49m\u001b[43mparams\u001b[49m\u001b[38;5;241;43m=\u001b[39;49m\u001b[43m{\u001b[49m\u001b[38;5;124;43m'\u001b[39;49m\u001b[38;5;124;43mdescription\u001b[39;49m\u001b[38;5;124;43m'\u001b[39;49m\u001b[43m:\u001b[49m\u001b[43m \u001b[49m\u001b[43mdescription\u001b[49m\u001b[43m,\u001b[49m\u001b[43m \u001b[49m\u001b[38;5;124;43m'\u001b[39;49m\u001b[38;5;124;43mfocus\u001b[39;49m\u001b[38;5;124;43m'\u001b[39;49m\u001b[43m:\u001b[49m\u001b[43m \u001b[49m\u001b[43mfocus\u001b[49m\u001b[43m}\u001b[49m\u001b[43m)\u001b[49m\n\u001b[0;32m     76\u001b[0m \u001b[38;5;66;03m# Wait for processing?\u001b[39;00m\n\u001b[0;32m     77\u001b[0m \u001b[38;5;28;01mif\u001b[39;00m synchronous:\n",
      "File \u001b[1;32m~\\anaconda3\\envs\\three-true-outcomes\\lib\\site-packages\\mastodon\\internals.py:208\u001b[0m, in \u001b[0;36mMastodon.__api_request\u001b[1;34m(self, method, endpoint, params, files, headers, access_token_override, base_url_override, do_ratelimiting, use_json, parse, return_response_object, skip_error_check, lang_override)\u001b[0m\n\u001b[0;32m    206\u001b[0m     response_object \u001b[38;5;241m=\u001b[39m \u001b[38;5;28mself\u001b[39m\u001b[38;5;241m.\u001b[39msession\u001b[38;5;241m.\u001b[39mrequest(method, base_url \u001b[38;5;241m+\u001b[39m endpoint, \u001b[38;5;241m*\u001b[39m\u001b[38;5;241m*\u001b[39mkwargs)\n\u001b[0;32m    207\u001b[0m \u001b[38;5;28;01mexcept\u001b[39;00m \u001b[38;5;167;01mException\u001b[39;00m \u001b[38;5;28;01mas\u001b[39;00m e:\n\u001b[1;32m--> 208\u001b[0m     \u001b[38;5;28;01mraise\u001b[39;00m MastodonNetworkError(\u001b[38;5;124m\"\u001b[39m\u001b[38;5;124mCould not complete request: \u001b[39m\u001b[38;5;132;01m%s\u001b[39;00m\u001b[38;5;124m\"\u001b[39m \u001b[38;5;241m%\u001b[39m e)\n\u001b[0;32m    210\u001b[0m \u001b[38;5;28;01mif\u001b[39;00m response_object \u001b[38;5;129;01mis\u001b[39;00m \u001b[38;5;28;01mNone\u001b[39;00m:\n\u001b[0;32m    211\u001b[0m     \u001b[38;5;28;01mraise\u001b[39;00m MastodonIllegalArgumentError(\u001b[38;5;124m\"\u001b[39m\u001b[38;5;124mIllegal request.\u001b[39m\u001b[38;5;124m\"\u001b[39m)\n",
      "\u001b[1;31mMastodonNetworkError\u001b[0m: Could not complete request: HTTPSConnectionPool(host='mast.mastodonsports.socialdfg', port=443): Max retries exceeded with url: /api/v1/media (Caused by NewConnectionError('<urllib3.connection.HTTPSConnection object at 0x0000026A50072D70>: Failed to establish a new connection: [Errno 11001] getaddrinfo failed'))"
     ]
    }
   ],
   "source": [
    "from mastodon import Mastodon\n",
    "\n",
    "#   Set up Mastodon\n",
    "\n",
    "# I think I also need to use os for an access token directly\n",
    "mastodon = Mastodon(\n",
    "    access_token = 'token.secret',\n",
    "    api_base_url = 'https://mast.mastodonsports.social/'\n",
    ")\n",
    "\n",
    "media = mastodon.media_post(\"data/image.png\", description=alt)\n",
    "#mastodon.status_post(\"Shout out to the three true outcome king of the day\", media_ids=media)"
   ]
  },
  {
   "cell_type": "code",
   "execution_count": null,
   "id": "50e1cdea-3a20-4928-adf1-5f71e73678d5",
   "metadata": {},
   "outputs": [],
   "source": []
  }
 ],
 "metadata": {
  "kernelspec": {
   "display_name": "Python 3 (ipykernel)",
   "language": "python",
   "name": "python3"
  },
  "language_info": {
   "codemirror_mode": {
    "name": "ipython",
    "version": 3
   },
   "file_extension": ".py",
   "mimetype": "text/x-python",
   "name": "python",
   "nbconvert_exporter": "python",
   "pygments_lexer": "ipython3",
   "version": "3.10.9"
  }
 },
 "nbformat": 4,
 "nbformat_minor": 5
}
